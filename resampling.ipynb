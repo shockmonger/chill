{
 "cells": [
  {
   "cell_type": "code",
   "execution_count": 1,
   "metadata": {
    "collapsed": true
   },
   "outputs": [],
   "source": [
    "%run chillscript.py\n",
    "%matplotlib inline"
   ]
  },
  {
   "cell_type": "code",
   "execution_count": 23,
   "metadata": {
    "collapsed": false
   },
   "outputs": [
    {
     "name": "stdout",
     "output_type": "stream",
     "text": [
      "100.888436252\n"
     ]
    }
   ],
   "source": [
    "time = 266\n",
    "import random\n",
    "print random.uniform(0,time)"
   ]
  },
  {
   "cell_type": "code",
   "execution_count": 22,
   "metadata": {
    "collapsed": false
   },
   "outputs": [],
   "source": [
    "i = 1\n",
    "\n",
    "\n",
    "filename = fil+'songs/'+eachSong['folder'][i]+'/'+eachSong['song'][i]+'.mp3'\n",
    "x, sr = librosa.load(filename)\n",
    "\n",
    "for i in range(0,tlen,1):\n",
    "    songid = int(timetables[i][-1:])\n",
    "    partid = int(timetables[i].split('_', 1)[0].replace('.', '')[1:])\n",
    "    song = songdir + parts[partid] + '/' + songsel[songid] + '.mp3'\n",
    "    timetable = savedir+'timetables/'+timetables[i]\n",
    "    command = 'cutmp3 -i' +' '+song +' -f'+' '+timetable\n",
    "    check.append(command)\n",
    "    counter = counter+1\n",
    "    os.system(command)"
   ]
  },
  {
   "cell_type": "code",
   "execution_count": 15,
   "metadata": {
    "collapsed": false
   },
   "outputs": [
    {
     "data": {
      "text/plain": [
       "266"
      ]
     },
     "execution_count": 15,
     "metadata": {},
     "output_type": "execute_result"
    }
   ],
   "source": [
    "(len(x)/sr)"
   ]
  },
  {
   "cell_type": "code",
   "execution_count": 33,
   "metadata": {
    "collapsed": false
   },
   "outputs": [],
   "source": [
    "'''randomly selecting non chills stimuli'''\n",
    "\n",
    "import os\n",
    "\n",
    "check = []\n",
    "counter = 0\n",
    "\n",
    "for i in range(len(eachSong)):\n",
    "    filename = fil+'songs/'+eachSong['folder'][i]+'/'+eachSong['song'][i]+'.mp3'\n",
    "    x, sr = librosa.load(filename)\n",
    "    time = len(x)/sr\n",
    "    start = []\n",
    "    end = []\n",
    "    for j in range(0,6,1):\n",
    "        y = random.uniform(0,time)\n",
    "        z = y+3\n",
    "        if z > time:\n",
    "            z = time\n",
    "            continue\n",
    "        start.append(y)\n",
    "        end.append(z)\n",
    "        command = 'cutmp3 -i' +' '+filename +' -a '+str(y)+' -b '+str(z)\n",
    "        check.append(command)\n",
    "        counter = counter+1\n",
    "        os.system(command)"
   ]
  },
  {
   "cell_type": "code",
   "execution_count": null,
   "metadata": {
    "collapsed": true
   },
   "outputs": [],
   "source": [
    "'''randomly resampling chills stimuli removing bias'''\n",
    "\n",
    "import os\n",
    "\n",
    "check = []\n",
    "counter = 0\n",
    "\n",
    "for i in range(len(eachSong)):\n",
    "    filename = fil+'songs/'+eachSong['folder'][i]+'/'+eachSong['song'][i]+'.mp3'\n",
    "    x, sr = librosa.load(filename)\n",
    "    time = len(x)/sr\n",
    "\n",
    "        command = 'cutmp3 -i' +' '+filename +' -a '+str(y)+' -b '+str(z)\n",
    "        check.append(command)\n",
    "        counter = counter+1\n",
    "        os.system(command)"
   ]
  },
  {
   "cell_type": "code",
   "execution_count": null,
   "metadata": {
    "collapsed": true
   },
   "outputs": [],
   "source": [
    "timetables = os.listdir('/home/tejaswik/Documents/CurrentProjects/chills/chop/timetables/')\n",
    "savedir = '/home/tejaswik/Documents/CurrentProjects/chills/chop/'\n",
    "songdir = '/home/tejaswik/Documents/CurrentProjects/chills/songs/'\n",
    "songsel = {0 : 's1', 1 : 's2', 2 : 's3'}\n",
    "\n",
    "tlen = len(timetables)\n",
    "\n",
    "check = []\n",
    "counter = 0\n",
    "\n",
    "'''to create chips - careful'''\n",
    "\n",
    "for i in range(0,tlen,1):\n",
    "    songid = int(timetables[i][-1:])\n",
    "    partid = int(timetables[i].split('_', 1)[0].replace('.', '')[1:])\n",
    "    song = songdir + parts[partid] + '/' + songsel[songid] + '.mp3'\n",
    "    timetable = savedir+'timetables/'+timetables[i]\n",
    "    command = 'cutmp3 -i' +' '+song +' -f'+' '+timetable\n",
    "    check.append(command)\n",
    "    counter = counter+1\n",
    "#     os.system(command)"
   ]
  },
  {
   "cell_type": "code",
   "execution_count": 32,
   "metadata": {
    "collapsed": false
   },
   "outputs": [
    {
     "data": {
      "text/plain": [
       "([125.58632458254594,\n",
       "  0.6596876015034472,\n",
       "  188.11788054658643,\n",
       "  149.48702959205826,\n",
       "  99.14374568610167,\n",
       "  140.54687987437512],\n",
       " [128.58632458254596,\n",
       "  3.659687601503447,\n",
       "  191.11788054658643,\n",
       "  152.48702959205826,\n",
       "  102.14374568610167,\n",
       "  143.54687987437512])"
      ]
     },
     "execution_count": 32,
     "metadata": {},
     "output_type": "execute_result"
    }
   ],
   "source": [
    "start, end"
   ]
  },
  {
   "cell_type": "code",
   "execution_count": null,
   "metadata": {
    "collapsed": true
   },
   "outputs": [],
   "source": []
  }
 ],
 "metadata": {
  "kernelspec": {
   "display_name": "Python 2",
   "language": "python",
   "name": "python2"
  },
  "language_info": {
   "codemirror_mode": {
    "name": "ipython",
    "version": 2
   },
   "file_extension": ".py",
   "mimetype": "text/x-python",
   "name": "python",
   "nbconvert_exporter": "python",
   "pygments_lexer": "ipython2",
   "version": "2.7.13"
  }
 },
 "nbformat": 4,
 "nbformat_minor": 0
}
