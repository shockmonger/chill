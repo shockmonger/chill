{
 "cells": [
  {
   "cell_type": "code",
   "execution_count": 3,
   "metadata": {
    "collapsed": false
   },
   "outputs": [
    {
     "data": {
      "text/plain": [
       "0"
      ]
     },
     "execution_count": 3,
     "metadata": {},
     "output_type": "execute_result"
    }
   ],
   "source": [
    "import os\n",
    "import pandas as pd\n",
    "import numpy as np\n",
    "\n",
    "songsel = {0 : 's1', 1 : 's2', 2 : 's3'}\n",
    "fil = '/home/tejaswik/Documents/CurrentProjects/chills/songs/'\n",
    "\n",
    "parts = os.listdir(\"/home/tejaswik/Documents/CurrentProjects/chills/indivData/\")\n",
    "fil = '/home/tejaswik/Documents/CurrentProjects/chills/'\n",
    "songsel = {0 : 's1', 1 : 's2', 2 : 's3'}\n",
    "length = 1241\n",
    "\n",
    "for i in range(0,len(parts),1):\n",
    "    parts[i] = parts[i][:-5]\n",
    "\n",
    "\n",
    "cmd = 'cd /home/tejaswik/Documents/CurrentProjects/chills/chop/timetables'\n",
    "os.system(cmd)\n",
    "# for j in range(0,51,1):\n",
    "#     for k in range(0,3,1):\n",
    "#         create = 'touch '+ 'p'+str(j)+'_'+str(k)\n",
    "#         os.system(create)\n",
    "    "
   ]
  },
  {
   "cell_type": "code",
   "execution_count": 7,
   "metadata": {
    "collapsed": false
   },
   "outputs": [
    {
     "data": {
      "text/plain": [
       "['AnneMarteOppstad',\n",
       " 'AnneLiseStokken',\n",
       " 'RunaMyhrer',\n",
       " 'OscarTronrud',\n",
       " 'KevinGalaen',\n",
       " 'HanneSyversen',\n",
       " 'EspenTolpinrud',\n",
       " 'HenrietteKarlsen',\n",
       " 'KristinaHauger',\n",
       " 'KristofferSomby',\n",
       " 'MalinKristine',\n",
       " 'MariusSaasen',\n",
       " 'TinaJohannesen',\n",
       " 'LucianAmundsen',\n",
       " 'JonasWorren',\n",
       " 'MaritLobben',\n",
       " 'MajaFoldal',\n",
       " 'CecilieChiem',\n",
       " 'JonFredrikTevasvoll',\n",
       " 'LarsOstbyePedersen',\n",
       " 'IngunnMella',\n",
       " 'JulianBergheim',\n",
       " 'SarahForsudd',\n",
       " 'CelineMartinsen',\n",
       " 'LarsScau',\n",
       " 'TrondBie',\n",
       " 'UnniSulutvedt',\n",
       " 'MathiasNesheim',\n",
       " 'MariaLouise',\n",
       " 'SaraSkilbredFjeld',\n",
       " 'LillKarolineSyversen',\n",
       " 'AsneMarielHillestad',\n",
       " 'AndersAsheim',\n",
       " 'KristineHeidenstrom',\n",
       " 'BredeAndreStraede',\n",
       " 'AinaOvre',\n",
       " 'LudmilaArnesen',\n",
       " 'DagEidet',\n",
       " 'KnutSyversen',\n",
       " 'HelgeHasund',\n",
       " 'IdaMeyer',\n",
       " 'LineNielsen',\n",
       " 'ErlendGunnesen',\n",
       " 'JorgenSyversen',\n",
       " 'JuneKval',\n",
       " 'EivindSkughei',\n",
       " 'IngunnOpstad',\n",
       " 'ChristianBerg',\n",
       " 'LillianEidet',\n",
       " 'NikolaiMarstein',\n",
       " 'Bruno']"
      ]
     },
     "execution_count": 7,
     "metadata": {},
     "output_type": "execute_result"
    }
   ],
   "source": [
    "parts"
   ]
  },
  {
   "cell_type": "code",
   "execution_count": 2,
   "metadata": {
    "collapsed": false
   },
   "outputs": [
    {
     "ename": "NameError",
     "evalue": "name 'chillsdict' is not defined",
     "output_type": "error",
     "traceback": [
      "\u001b[1;31m---------------------------------------------------------------------------\u001b[0m",
      "\u001b[1;31mNameError\u001b[0m                                 Traceback (most recent call last)",
      "\u001b[1;32m<ipython-input-2-9900c9ee7ff3>\u001b[0m in \u001b[0;36m<module>\u001b[1;34m()\u001b[0m\n\u001b[0;32m      2\u001b[0m \u001b[1;33m\u001b[0m\u001b[0m\n\u001b[0;32m      3\u001b[0m \u001b[1;32mfor\u001b[0m \u001b[0mi\u001b[0m \u001b[1;32min\u001b[0m \u001b[0mrange\u001b[0m\u001b[1;33m(\u001b[0m\u001b[1;36m1\u001b[0m\u001b[1;33m,\u001b[0m\u001b[1;36m1242\u001b[0m\u001b[1;33m,\u001b[0m\u001b[1;36m1\u001b[0m\u001b[1;33m)\u001b[0m\u001b[1;33m:\u001b[0m\u001b[1;33m\u001b[0m\u001b[0m\n\u001b[1;32m----> 4\u001b[1;33m     \u001b[0mpart_id\u001b[0m \u001b[1;33m=\u001b[0m \u001b[0mchillsdict\u001b[0m\u001b[1;33m[\u001b[0m\u001b[1;34m'participant'\u001b[0m\u001b[1;33m]\u001b[0m\u001b[1;33m[\u001b[0m\u001b[0mi\u001b[0m\u001b[1;33m]\u001b[0m\u001b[1;33m\u001b[0m\u001b[0m\n\u001b[0m\u001b[0;32m      5\u001b[0m     \u001b[0msong_id\u001b[0m \u001b[1;33m=\u001b[0m \u001b[0mchillsdict\u001b[0m\u001b[1;33m[\u001b[0m\u001b[1;34m'song'\u001b[0m\u001b[1;33m]\u001b[0m\u001b[1;33m[\u001b[0m\u001b[0mi\u001b[0m\u001b[1;33m]\u001b[0m\u001b[1;33m\u001b[0m\u001b[0m\n\u001b[0;32m      6\u001b[0m     \u001b[0mstart\u001b[0m \u001b[1;33m=\u001b[0m \u001b[0mchillsdict\u001b[0m\u001b[1;33m[\u001b[0m\u001b[1;34m'start'\u001b[0m\u001b[1;33m]\u001b[0m\u001b[1;33m[\u001b[0m\u001b[0mi\u001b[0m\u001b[1;33m]\u001b[0m\u001b[1;33m\u001b[0m\u001b[0m\n",
      "\u001b[1;31mNameError\u001b[0m: name 'chillsdict' is not defined"
     ]
    }
   ],
   "source": [
    "fil2 = '/home/tejaswik/Documents/CurrentProjects/chills/chop/timetables/'\n",
    "\n",
    "for i in range(1,1242,1):\n",
    "    part_id = chillsdict['participant'][i]\n",
    "    song_id = chillsdict['song'][i]\n",
    "    start = chillsdict['start'][i]\n",
    "    end = chillsdict['end'][i]\n",
    "    string = str(start) + \" \" + str(end) + '\\n'\n",
    "    filename = fil2+'p'+str(part_id)+'_'+str(song_id)\n",
    "    with open(filename, \"a\") as text_file:\n",
    "        text_file.write(string)"
   ]
  },
  {
   "cell_type": "code",
   "execution_count": 8,
   "metadata": {
    "collapsed": false
   },
   "outputs": [],
   "source": [
    "timetables = os.listdir('/home/tejaswik/Documents/CurrentProjects/chills/chop/timetables/')\n",
    "savedir = '/home/tejaswik/Documents/CurrentProjects/chills/chop/'\n",
    "songdir = '/home/tejaswik/Documents/CurrentProjects/chills/songs/'\n",
    "songsel = {0 : 's1', 1 : 's2', 2 : 's3'}\n",
    "\n",
    "tlen = len(timetables)\n",
    "\n",
    "check = []\n",
    "\n",
    "for i in range(0,tlen,1):\n",
    "    songid = int(timetables[i][-1:])\n",
    "    partid = int(timetables[i].split('_', 1)[0].replace('.', '')[1:])\n",
    "    song = songdir + parts[partid] + '/' + songsel[songid] + '.mp3'\n",
    "    timetable = savedir+'timetables/'+timetables[i]\n",
    "    command = 'cutmp3 -i' +' '+song +' -f'+' '+timetable\n",
    "    check.append(command)\n",
    "#     os.system(command)"
   ]
  },
  {
   "cell_type": "code",
   "execution_count": 10,
   "metadata": {
    "collapsed": false
   },
   "outputs": [
    {
     "data": {
      "text/plain": [
       "153"
      ]
     },
     "execution_count": 10,
     "metadata": {},
     "output_type": "execute_result"
    }
   ],
   "source": [
    "    len(check)"
   ]
  },
  {
   "cell_type": "code",
   "execution_count": 46,
   "metadata": {
    "collapsed": false
   },
   "outputs": [],
   "source": [
    "'''\n",
    "This piece of code is to clear contents of all timetables\n",
    "'''\n",
    "fil2 = '/home/tejaswik/Documents/CurrentProjects/chills/chop/timetables/'\n",
    "\n",
    "for i in range(1,1242,1):\n",
    "    part_id = chillsdict['participant'][i]\n",
    "    song_id = chillsdict['song'][i]\n",
    "    filename = fil2+'p'+str(part_id)+'_'+str(song_id)\n",
    "    with open(filename,'w') as text_file:\n",
    "        text_file.write('')\n",
    "        "
   ]
  }
 ],
 "metadata": {
  "kernelspec": {
   "display_name": "Python 2",
   "language": "python",
   "name": "python2"
  },
  "language_info": {
   "codemirror_mode": {
    "name": "ipython",
    "version": 2
   },
   "file_extension": ".py",
   "mimetype": "text/x-python",
   "name": "python",
   "nbconvert_exporter": "python",
   "pygments_lexer": "ipython2",
   "version": "2.7.12"
  }
 },
 "nbformat": 4,
 "nbformat_minor": 0
}
