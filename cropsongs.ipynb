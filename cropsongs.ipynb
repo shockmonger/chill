{
 "cells": [
  {
   "cell_type": "code",
   "execution_count": 5,
   "metadata": {
    "collapsed": false
   },
   "outputs": [
    {
     "data": {
      "text/plain": [
       "0"
      ]
     },
     "execution_count": 5,
     "metadata": {},
     "output_type": "execute_result"
    }
   ],
   "source": [
    "import os\n",
    "import pandas as pd\n",
    "import numpy as np\n",
    "\n",
    "songsel = {0 : 's1', 1 : 's2', 2 : 's3'}\n",
    "fil = '/home/tejaswik/Documents/CurrentProjects/chills/songs/'\n",
    "\n",
    "parts = os.listdir(\"/home/tejaswik/Documents/CurrentProjects/chills/indivData/\")\n",
    "fil = '/home/tejaswik/Documents/CurrentProjects/chills/'\n",
    "songsel = {0 : 's1', 1 : 's2', 2 : 's3'}\n",
    "length = 1241\n",
    "\n",
    "for i in range(0,len(parts),1):\n",
    "    parts[i] = parts[i][:-5]\n",
    "\n",
    "\n",
    "cmd = 'cd /home/tejaswik/Documents/CurrentProjects/chills/chop/timetables'\n",
    "os.system(cmd)\n",
    "# for j in range(0,51,1):\n",
    "#     for k in range(0,3,1):\n",
    "#         create = 'touch '+ 'p'+str(j)+'_'+str(k)\n",
    "#         os.system(create)\n",
    "    "
   ]
  },
  {
   "cell_type": "code",
   "execution_count": 6,
   "metadata": {
    "collapsed": false
   },
   "outputs": [
    {
     "data": {
      "text/plain": [
       "['AnneMarteOppstad',\n",
       " 'AnneLiseStokken',\n",
       " 'RunaMyhrer',\n",
       " 'OscarTronrud',\n",
       " 'KevinGalaen',\n",
       " 'HanneSyversen',\n",
       " 'EspenTolpinrud',\n",
       " 'HenrietteKarlsen',\n",
       " 'KristinaHauger',\n",
       " 'KristofferSomby',\n",
       " 'MalinKristine',\n",
       " 'MariusSaasen',\n",
       " 'TinaJohannesen',\n",
       " 'LucianAmundsen',\n",
       " 'JonasWorren',\n",
       " 'MaritLobben',\n",
       " 'MajaFoldal',\n",
       " 'CecilieChiem',\n",
       " 'JonFredrikTevasvoll',\n",
       " 'LarsOstbyePedersen',\n",
       " 'IngunnMella',\n",
       " 'JulianBergheim',\n",
       " 'SarahForsudd',\n",
       " 'CelineMartinsen',\n",
       " 'LarsScau',\n",
       " 'TrondBie',\n",
       " 'UnniSulutvedt',\n",
       " 'MathiasNesheim',\n",
       " 'MariaLouise',\n",
       " 'SaraSkilbredFjeld',\n",
       " 'LillKarolineSyversen',\n",
       " 'AsneMarielHillestad',\n",
       " 'AndersAsheim',\n",
       " 'KristineHeidenstrom',\n",
       " 'BredeAndreStraede',\n",
       " 'AinaOvre',\n",
       " 'LudmilaArnesen',\n",
       " 'DagEidet',\n",
       " 'KnutSyversen',\n",
       " 'HelgeHasund',\n",
       " 'IdaMeyer',\n",
       " 'LineNielsen',\n",
       " 'ErlendGunnesen',\n",
       " 'JorgenSyversen',\n",
       " 'JuneKval',\n",
       " 'EivindSkughei',\n",
       " 'IngunnOpstad',\n",
       " 'ChristianBerg',\n",
       " 'LillianEidet',\n",
       " 'NikolaiMarstein',\n",
       " 'Bruno']"
      ]
     },
     "execution_count": 6,
     "metadata": {},
     "output_type": "execute_result"
    }
   ],
   "source": [
    "parts"
   ]
  },
  {
   "cell_type": "code",
   "execution_count": 11,
   "metadata": {
    "collapsed": false
   },
   "outputs": [
    {
     "ename": "NameError",
     "evalue": "name 'chillsdict' is not defined",
     "output_type": "error",
     "traceback": [
      "\u001b[1;31m----------------------------------------------------\u001b[0m",
      "\u001b[1;31mNameError\u001b[0m          Traceback (most recent call last)",
      "\u001b[1;32m<ipython-input-11-2b066b651249>\u001b[0m in \u001b[0;36m<module>\u001b[1;34m()\u001b[0m\n\u001b[0;32m      3\u001b[0m \u001b[1;33m\u001b[0m\u001b[0m\n\u001b[0;32m      4\u001b[0m \u001b[1;32mfor\u001b[0m \u001b[0mi\u001b[0m \u001b[1;32min\u001b[0m \u001b[0mrange\u001b[0m\u001b[1;33m(\u001b[0m\u001b[1;36m1\u001b[0m\u001b[1;33m,\u001b[0m\u001b[1;36m1242\u001b[0m\u001b[1;33m,\u001b[0m\u001b[1;36m1\u001b[0m\u001b[1;33m)\u001b[0m\u001b[1;33m:\u001b[0m\u001b[1;33m\u001b[0m\u001b[0m\n\u001b[1;32m----> 5\u001b[1;33m     \u001b[0mpart_id\u001b[0m \u001b[1;33m=\u001b[0m \u001b[0mchillsdict\u001b[0m\u001b[1;33m[\u001b[0m\u001b[1;34m'participant'\u001b[0m\u001b[1;33m]\u001b[0m\u001b[1;33m[\u001b[0m\u001b[0mi\u001b[0m\u001b[1;33m]\u001b[0m\u001b[1;33m\u001b[0m\u001b[0m\n\u001b[0m\u001b[0;32m      6\u001b[0m     \u001b[0msong_id\u001b[0m \u001b[1;33m=\u001b[0m \u001b[0mchillsdict\u001b[0m\u001b[1;33m[\u001b[0m\u001b[1;34m'song'\u001b[0m\u001b[1;33m]\u001b[0m\u001b[1;33m[\u001b[0m\u001b[0mi\u001b[0m\u001b[1;33m]\u001b[0m\u001b[1;33m\u001b[0m\u001b[0m\n\u001b[0;32m      7\u001b[0m     \u001b[0mstart\u001b[0m \u001b[1;33m=\u001b[0m \u001b[0mchillsdict\u001b[0m\u001b[1;33m[\u001b[0m\u001b[1;34m'start'\u001b[0m\u001b[1;33m]\u001b[0m\u001b[1;33m[\u001b[0m\u001b[0mi\u001b[0m\u001b[1;33m]\u001b[0m\u001b[1;33m\u001b[0m\u001b[0m\n",
      "\u001b[1;31mNameError\u001b[0m: name 'chillsdict' is not defined"
     ]
    }
   ],
   "source": [
    "fil2 = '/home/tejaswik/Documents/CurrentProjects/chills/chop/timetables/'\n",
    "\n",
    "\n",
    "for i in range(1,1242,1):\n",
    "    part_id = chillsdict['participant'][i]\n",
    "    song_id = chillsdict['song'][i]\n",
    "    start = chillsdict['start'][i]\n",
    "    end = chillsdict['end'][i]\n",
    "    string = str(start) + \" \" + str(end) + '\\n'\n",
    "    filename = fil2+'p'+str(part_id)+'_'+str(song_id)\n",
    "    with open(filename, \"a\") as text_file:\n",
    "        text_file.write(string)"
   ]
  },
  {
   "cell_type": "code",
   "execution_count": 10,
   "metadata": {
    "collapsed": false
   },
   "outputs": [],
   "source": [
    "import openpyxl\n",
    "wb = openpyxl.load_workbook(filename = fil+'finalchills.xlsx')\n",
    "sheets = wb.get_sheet_names()\n",
    "name = sheets[0]\n",
    "sheet_ranges = wb[name]\n",
    "df = pd.DataFrame(sheet_ranges.values)\n",
    "df.columns = ['id','participant','song','start','end']\n",
    "\n",
    "\n",
    "#for i in range(len(df)):\n"
   ]
  },
  {
   "cell_type": "code",
   "execution_count": 12,
   "metadata": {
    "collapsed": false
   },
   "outputs": [],
   "source": [
    "timetables = os.listdir('/home/tejaswik/Documents/CurrentProjects/chills/chop/timetables/')\n",
    "savedir = '/home/tejaswik/Documents/CurrentProjects/chills/chop/'\n",
    "songdir = '/home/tejaswik/Documents/CurrentProjects/chills/songs/'\n",
    "songsel = {0 : 's1', 1 : 's2', 2 : 's3'}\n",
    "\n",
    "tlen = len(timetables)\n",
    "\n",
    "check = []\n",
    "counter = 0\n",
    "\n",
    "'''to create chips - careful'''\n",
    "\n",
    "for i in range(0,tlen,1):\n",
    "    songid = int(timetables[i][-1:])\n",
    "    partid = int(timetables[i].split('_', 1)[0].replace('.', '')[1:])\n",
    "    song = songdir + parts[partid] + '/' + songsel[songid] + '.mp3'\n",
    "    timetable = savedir+'timetables/'+timetables[i]\n",
    "    command = 'cutmp3 -i' +' '+song +' -f'+' '+timetable\n",
    "    check.append(command)\n",
    "    counter = counter+1\n",
    "#     os.system(command)"
   ]
  },
  {
   "cell_type": "code",
   "execution_count": 13,
   "metadata": {
    "collapsed": false
   },
   "outputs": [
    {
     "data": {
      "text/plain": [
       "['cutmp3 -i /home/tejaswik/Documents/CurrentProjects/chills/songs/LarsOstbyePedersen/s3.mp3 -f /home/tejaswik/Documents/CurrentProjects/chills/chop/timetables/p19_2',\n",
       " 'cutmp3 -i /home/tejaswik/Documents/CurrentProjects/chills/songs/AinaOvre/s2.mp3 -f /home/tejaswik/Documents/CurrentProjects/chills/chop/timetables/p35_1',\n",
       " 'cutmp3 -i /home/tejaswik/Documents/CurrentProjects/chills/songs/MalinKristine/s2.mp3 -f /home/tejaswik/Documents/CurrentProjects/chills/chop/timetables/p10_1',\n",
       " 'cutmp3 -i /home/tejaswik/Documents/CurrentProjects/chills/songs/MariaLouise/s3.mp3 -f /home/tejaswik/Documents/CurrentProjects/chills/chop/timetables/p28_2',\n",
       " 'cutmp3 -i /home/tejaswik/Documents/CurrentProjects/chills/songs/KnutSyversen/s2.mp3 -f /home/tejaswik/Documents/CurrentProjects/chills/chop/timetables/p38_1',\n",
       " 'cutmp3 -i /home/tejaswik/Documents/CurrentProjects/chills/songs/JonasWorren/s2.mp3 -f /home/tejaswik/Documents/CurrentProjects/chills/chop/timetables/p14_1',\n",
       " 'cutmp3 -i /home/tejaswik/Documents/CurrentProjects/chills/songs/MariaLouise/s1.mp3 -f /home/tejaswik/Documents/CurrentProjects/chills/chop/timetables/p28_0',\n",
       " 'cutmp3 -i /home/tejaswik/Documents/CurrentProjects/chills/songs/LucianAmundsen/s3.mp3 -f /home/tejaswik/Documents/CurrentProjects/chills/chop/timetables/p13_2',\n",
       " 'cutmp3 -i /home/tejaswik/Documents/CurrentProjects/chills/songs/LarsScau/s1.mp3 -f /home/tejaswik/Documents/CurrentProjects/chills/chop/timetables/p24_0',\n",
       " 'cutmp3 -i /home/tejaswik/Documents/CurrentProjects/chills/songs/UnniSulutvedt/s2.mp3 -f /home/tejaswik/Documents/CurrentProjects/chills/chop/timetables/p26_1',\n",
       " 'cutmp3 -i /home/tejaswik/Documents/CurrentProjects/chills/songs/Bruno/s2.mp3 -f /home/tejaswik/Documents/CurrentProjects/chills/chop/timetables/p50_1',\n",
       " 'cutmp3 -i /home/tejaswik/Documents/CurrentProjects/chills/songs/JorgenSyversen/s2.mp3 -f /home/tejaswik/Documents/CurrentProjects/chills/chop/timetables/p43_1',\n",
       " 'cutmp3 -i /home/tejaswik/Documents/CurrentProjects/chills/songs/ChristianBerg/s2.mp3 -f /home/tejaswik/Documents/CurrentProjects/chills/chop/timetables/p47_1',\n",
       " 'cutmp3 -i /home/tejaswik/Documents/CurrentProjects/chills/songs/EspenTolpinrud/s3.mp3 -f /home/tejaswik/Documents/CurrentProjects/chills/chop/timetables/p6_2',\n",
       " 'cutmp3 -i /home/tejaswik/Documents/CurrentProjects/chills/songs/HanneSyversen/s1.mp3 -f /home/tejaswik/Documents/CurrentProjects/chills/chop/timetables/p5_0',\n",
       " 'cutmp3 -i /home/tejaswik/Documents/CurrentProjects/chills/songs/JulianBergheim/s2.mp3 -f /home/tejaswik/Documents/CurrentProjects/chills/chop/timetables/p21_1',\n",
       " 'cutmp3 -i /home/tejaswik/Documents/CurrentProjects/chills/songs/AinaOvre/s1.mp3 -f /home/tejaswik/Documents/CurrentProjects/chills/chop/timetables/p35_0',\n",
       " 'cutmp3 -i /home/tejaswik/Documents/CurrentProjects/chills/songs/MathiasNesheim/s2.mp3 -f /home/tejaswik/Documents/CurrentProjects/chills/chop/timetables/p27_1',\n",
       " 'cutmp3 -i /home/tejaswik/Documents/CurrentProjects/chills/songs/AsneMarielHillestad/s1.mp3 -f /home/tejaswik/Documents/CurrentProjects/chills/chop/timetables/p31_0',\n",
       " 'cutmp3 -i /home/tejaswik/Documents/CurrentProjects/chills/songs/SarahForsudd/s1.mp3 -f /home/tejaswik/Documents/CurrentProjects/chills/chop/timetables/p22_0',\n",
       " 'cutmp3 -i /home/tejaswik/Documents/CurrentProjects/chills/songs/LineNielsen/s2.mp3 -f /home/tejaswik/Documents/CurrentProjects/chills/chop/timetables/p41_1',\n",
       " 'cutmp3 -i /home/tejaswik/Documents/CurrentProjects/chills/songs/LarsScau/s2.mp3 -f /home/tejaswik/Documents/CurrentProjects/chills/chop/timetables/p24_1',\n",
       " 'cutmp3 -i /home/tejaswik/Documents/CurrentProjects/chills/songs/JuneKval/s1.mp3 -f /home/tejaswik/Documents/CurrentProjects/chills/chop/timetables/p44_0',\n",
       " 'cutmp3 -i /home/tejaswik/Documents/CurrentProjects/chills/songs/IngunnMella/s1.mp3 -f /home/tejaswik/Documents/CurrentProjects/chills/chop/timetables/p20_0',\n",
       " 'cutmp3 -i /home/tejaswik/Documents/CurrentProjects/chills/songs/JonFredrikTevasvoll/s2.mp3 -f /home/tejaswik/Documents/CurrentProjects/chills/chop/timetables/p18_1',\n",
       " 'cutmp3 -i /home/tejaswik/Documents/CurrentProjects/chills/songs/JonFredrikTevasvoll/s1.mp3 -f /home/tejaswik/Documents/CurrentProjects/chills/chop/timetables/p18_0',\n",
       " 'cutmp3 -i /home/tejaswik/Documents/CurrentProjects/chills/songs/KristinaHauger/s2.mp3 -f /home/tejaswik/Documents/CurrentProjects/chills/chop/timetables/p8_1',\n",
       " 'cutmp3 -i /home/tejaswik/Documents/CurrentProjects/chills/songs/AsneMarielHillestad/s3.mp3 -f /home/tejaswik/Documents/CurrentProjects/chills/chop/timetables/p31_2',\n",
       " 'cutmp3 -i /home/tejaswik/Documents/CurrentProjects/chills/songs/AsneMarielHillestad/s2.mp3 -f /home/tejaswik/Documents/CurrentProjects/chills/chop/timetables/p31_1',\n",
       " 'cutmp3 -i /home/tejaswik/Documents/CurrentProjects/chills/songs/LarsOstbyePedersen/s1.mp3 -f /home/tejaswik/Documents/CurrentProjects/chills/chop/timetables/p19_0',\n",
       " 'cutmp3 -i /home/tejaswik/Documents/CurrentProjects/chills/songs/ErlendGunnesen/s3.mp3 -f /home/tejaswik/Documents/CurrentProjects/chills/chop/timetables/p42_2',\n",
       " 'cutmp3 -i /home/tejaswik/Documents/CurrentProjects/chills/songs/ChristianBerg/s3.mp3 -f /home/tejaswik/Documents/CurrentProjects/chills/chop/timetables/p47_2',\n",
       " 'cutmp3 -i /home/tejaswik/Documents/CurrentProjects/chills/songs/JonFredrikTevasvoll/s3.mp3 -f /home/tejaswik/Documents/CurrentProjects/chills/chop/timetables/p18_2',\n",
       " 'cutmp3 -i /home/tejaswik/Documents/CurrentProjects/chills/songs/DagEidet/s2.mp3 -f /home/tejaswik/Documents/CurrentProjects/chills/chop/timetables/p37_1',\n",
       " 'cutmp3 -i /home/tejaswik/Documents/CurrentProjects/chills/songs/NikolaiMarstein/s1.mp3 -f /home/tejaswik/Documents/CurrentProjects/chills/chop/timetables/p49_0',\n",
       " 'cutmp3 -i /home/tejaswik/Documents/CurrentProjects/chills/songs/MajaFoldal/s3.mp3 -f /home/tejaswik/Documents/CurrentProjects/chills/chop/timetables/p16_2',\n",
       " 'cutmp3 -i /home/tejaswik/Documents/CurrentProjects/chills/songs/HenrietteKarlsen/s3.mp3 -f /home/tejaswik/Documents/CurrentProjects/chills/chop/timetables/p7_2',\n",
       " 'cutmp3 -i /home/tejaswik/Documents/CurrentProjects/chills/songs/KristineHeidenstrom/s3.mp3 -f /home/tejaswik/Documents/CurrentProjects/chills/chop/timetables/p33_2',\n",
       " 'cutmp3 -i /home/tejaswik/Documents/CurrentProjects/chills/songs/MaritLobben/s2.mp3 -f /home/tejaswik/Documents/CurrentProjects/chills/chop/timetables/p15_1',\n",
       " 'cutmp3 -i /home/tejaswik/Documents/CurrentProjects/chills/songs/AndersAsheim/s2.mp3 -f /home/tejaswik/Documents/CurrentProjects/chills/chop/timetables/p32_1',\n",
       " 'cutmp3 -i /home/tejaswik/Documents/CurrentProjects/chills/songs/TinaJohannesen/s1.mp3 -f /home/tejaswik/Documents/CurrentProjects/chills/chop/timetables/p12_0',\n",
       " 'cutmp3 -i /home/tejaswik/Documents/CurrentProjects/chills/songs/AnneMarteOppstad/s3.mp3 -f /home/tejaswik/Documents/CurrentProjects/chills/chop/timetables/p0_2',\n",
       " 'cutmp3 -i /home/tejaswik/Documents/CurrentProjects/chills/songs/KristofferSomby/s2.mp3 -f /home/tejaswik/Documents/CurrentProjects/chills/chop/timetables/p9_1',\n",
       " 'cutmp3 -i /home/tejaswik/Documents/CurrentProjects/chills/songs/CecilieChiem/s2.mp3 -f /home/tejaswik/Documents/CurrentProjects/chills/chop/timetables/p17_1',\n",
       " 'cutmp3 -i /home/tejaswik/Documents/CurrentProjects/chills/songs/LineNielsen/s3.mp3 -f /home/tejaswik/Documents/CurrentProjects/chills/chop/timetables/p41_2',\n",
       " 'cutmp3 -i /home/tejaswik/Documents/CurrentProjects/chills/songs/AnneMarteOppstad/s2.mp3 -f /home/tejaswik/Documents/CurrentProjects/chills/chop/timetables/p0_1',\n",
       " 'cutmp3 -i /home/tejaswik/Documents/CurrentProjects/chills/songs/MajaFoldal/s1.mp3 -f /home/tejaswik/Documents/CurrentProjects/chills/chop/timetables/p16_0',\n",
       " 'cutmp3 -i /home/tejaswik/Documents/CurrentProjects/chills/songs/KristofferSomby/s3.mp3 -f /home/tejaswik/Documents/CurrentProjects/chills/chop/timetables/p9_2',\n",
       " 'cutmp3 -i /home/tejaswik/Documents/CurrentProjects/chills/songs/UnniSulutvedt/s1.mp3 -f /home/tejaswik/Documents/CurrentProjects/chills/chop/timetables/p26_0',\n",
       " 'cutmp3 -i /home/tejaswik/Documents/CurrentProjects/chills/songs/MalinKristine/s1.mp3 -f /home/tejaswik/Documents/CurrentProjects/chills/chop/timetables/p10_0',\n",
       " 'cutmp3 -i /home/tejaswik/Documents/CurrentProjects/chills/songs/KristinaHauger/s3.mp3 -f /home/tejaswik/Documents/CurrentProjects/chills/chop/timetables/p8_2',\n",
       " 'cutmp3 -i /home/tejaswik/Documents/CurrentProjects/chills/songs/IngunnOpstad/s3.mp3 -f /home/tejaswik/Documents/CurrentProjects/chills/chop/timetables/p46_2',\n",
       " 'cutmp3 -i /home/tejaswik/Documents/CurrentProjects/chills/songs/KnutSyversen/s3.mp3 -f /home/tejaswik/Documents/CurrentProjects/chills/chop/timetables/p38_2',\n",
       " 'cutmp3 -i /home/tejaswik/Documents/CurrentProjects/chills/songs/MariusSaasen/s3.mp3 -f /home/tejaswik/Documents/CurrentProjects/chills/chop/timetables/p11_2',\n",
       " 'cutmp3 -i /home/tejaswik/Documents/CurrentProjects/chills/songs/LillianEidet/s1.mp3 -f /home/tejaswik/Documents/CurrentProjects/chills/chop/timetables/p48_0',\n",
       " 'cutmp3 -i /home/tejaswik/Documents/CurrentProjects/chills/songs/AndersAsheim/s1.mp3 -f /home/tejaswik/Documents/CurrentProjects/chills/chop/timetables/p32_0',\n",
       " 'cutmp3 -i /home/tejaswik/Documents/CurrentProjects/chills/songs/EspenTolpinrud/s1.mp3 -f /home/tejaswik/Documents/CurrentProjects/chills/chop/timetables/p6_0',\n",
       " 'cutmp3 -i /home/tejaswik/Documents/CurrentProjects/chills/songs/CelineMartinsen/s1.mp3 -f /home/tejaswik/Documents/CurrentProjects/chills/chop/timetables/p23_0',\n",
       " 'cutmp3 -i /home/tejaswik/Documents/CurrentProjects/chills/songs/LucianAmundsen/s1.mp3 -f /home/tejaswik/Documents/CurrentProjects/chills/chop/timetables/p13_0',\n",
       " 'cutmp3 -i /home/tejaswik/Documents/CurrentProjects/chills/songs/KevinGalaen/s3.mp3 -f /home/tejaswik/Documents/CurrentProjects/chills/chop/timetables/p4_2',\n",
       " 'cutmp3 -i /home/tejaswik/Documents/CurrentProjects/chills/songs/CelineMartinsen/s3.mp3 -f /home/tejaswik/Documents/CurrentProjects/chills/chop/timetables/p23_2',\n",
       " 'cutmp3 -i /home/tejaswik/Documents/CurrentProjects/chills/songs/HanneSyversen/s2.mp3 -f /home/tejaswik/Documents/CurrentProjects/chills/chop/timetables/p5_1',\n",
       " 'cutmp3 -i /home/tejaswik/Documents/CurrentProjects/chills/songs/SaraSkilbredFjeld/s3.mp3 -f /home/tejaswik/Documents/CurrentProjects/chills/chop/timetables/p29_2',\n",
       " 'cutmp3 -i /home/tejaswik/Documents/CurrentProjects/chills/songs/RunaMyhrer/s1.mp3 -f /home/tejaswik/Documents/CurrentProjects/chills/chop/timetables/p2_0',\n",
       " 'cutmp3 -i /home/tejaswik/Documents/CurrentProjects/chills/songs/JulianBergheim/s3.mp3 -f /home/tejaswik/Documents/CurrentProjects/chills/chop/timetables/p21_2',\n",
       " 'cutmp3 -i /home/tejaswik/Documents/CurrentProjects/chills/songs/TrondBie/s3.mp3 -f /home/tejaswik/Documents/CurrentProjects/chills/chop/timetables/p25_2',\n",
       " 'cutmp3 -i /home/tejaswik/Documents/CurrentProjects/chills/songs/KristofferSomby/s1.mp3 -f /home/tejaswik/Documents/CurrentProjects/chills/chop/timetables/p9_0',\n",
       " 'cutmp3 -i /home/tejaswik/Documents/CurrentProjects/chills/songs/LarsScau/s3.mp3 -f /home/tejaswik/Documents/CurrentProjects/chills/chop/timetables/p24_2',\n",
       " 'cutmp3 -i /home/tejaswik/Documents/CurrentProjects/chills/songs/AinaOvre/s3.mp3 -f /home/tejaswik/Documents/CurrentProjects/chills/chop/timetables/p35_2',\n",
       " 'cutmp3 -i /home/tejaswik/Documents/CurrentProjects/chills/songs/SaraSkilbredFjeld/s1.mp3 -f /home/tejaswik/Documents/CurrentProjects/chills/chop/timetables/p29_0',\n",
       " 'cutmp3 -i /home/tejaswik/Documents/CurrentProjects/chills/songs/OscarTronrud/s3.mp3 -f /home/tejaswik/Documents/CurrentProjects/chills/chop/timetables/p3_2',\n",
       " 'cutmp3 -i /home/tejaswik/Documents/CurrentProjects/chills/songs/EivindSkughei/s3.mp3 -f /home/tejaswik/Documents/CurrentProjects/chills/chop/timetables/p45_2',\n",
       " 'cutmp3 -i /home/tejaswik/Documents/CurrentProjects/chills/songs/KristineHeidenstrom/s2.mp3 -f /home/tejaswik/Documents/CurrentProjects/chills/chop/timetables/p33_1',\n",
       " 'cutmp3 -i /home/tejaswik/Documents/CurrentProjects/chills/songs/MariusSaasen/s2.mp3 -f /home/tejaswik/Documents/CurrentProjects/chills/chop/timetables/p11_1',\n",
       " 'cutmp3 -i /home/tejaswik/Documents/CurrentProjects/chills/songs/LillianEidet/s2.mp3 -f /home/tejaswik/Documents/CurrentProjects/chills/chop/timetables/p48_1',\n",
       " 'cutmp3 -i /home/tejaswik/Documents/CurrentProjects/chills/songs/IngunnMella/s3.mp3 -f /home/tejaswik/Documents/CurrentProjects/chills/chop/timetables/p20_2',\n",
       " 'cutmp3 -i /home/tejaswik/Documents/CurrentProjects/chills/songs/IngunnOpstad/s2.mp3 -f /home/tejaswik/Documents/CurrentProjects/chills/chop/timetables/p46_1',\n",
       " 'cutmp3 -i /home/tejaswik/Documents/CurrentProjects/chills/songs/LillianEidet/s3.mp3 -f /home/tejaswik/Documents/CurrentProjects/chills/chop/timetables/p48_2',\n",
       " 'cutmp3 -i /home/tejaswik/Documents/CurrentProjects/chills/songs/AndersAsheim/s3.mp3 -f /home/tejaswik/Documents/CurrentProjects/chills/chop/timetables/p32_2',\n",
       " 'cutmp3 -i /home/tejaswik/Documents/CurrentProjects/chills/songs/KristineHeidenstrom/s1.mp3 -f /home/tejaswik/Documents/CurrentProjects/chills/chop/timetables/p33_0',\n",
       " 'cutmp3 -i /home/tejaswik/Documents/CurrentProjects/chills/songs/DagEidet/s1.mp3 -f /home/tejaswik/Documents/CurrentProjects/chills/chop/timetables/p37_0',\n",
       " 'cutmp3 -i /home/tejaswik/Documents/CurrentProjects/chills/songs/IdaMeyer/s2.mp3 -f /home/tejaswik/Documents/CurrentProjects/chills/chop/timetables/p40_1',\n",
       " 'cutmp3 -i /home/tejaswik/Documents/CurrentProjects/chills/songs/HenrietteKarlsen/s2.mp3 -f /home/tejaswik/Documents/CurrentProjects/chills/chop/timetables/p7_1',\n",
       " 'cutmp3 -i /home/tejaswik/Documents/CurrentProjects/chills/songs/LillKarolineSyversen/s2.mp3 -f /home/tejaswik/Documents/CurrentProjects/chills/chop/timetables/p30_1',\n",
       " 'cutmp3 -i /home/tejaswik/Documents/CurrentProjects/chills/songs/IdaMeyer/s1.mp3 -f /home/tejaswik/Documents/CurrentProjects/chills/chop/timetables/p40_0',\n",
       " 'cutmp3 -i /home/tejaswik/Documents/CurrentProjects/chills/songs/LudmilaArnesen/s2.mp3 -f /home/tejaswik/Documents/CurrentProjects/chills/chop/timetables/p36_1',\n",
       " 'cutmp3 -i /home/tejaswik/Documents/CurrentProjects/chills/songs/LillKarolineSyversen/s3.mp3 -f /home/tejaswik/Documents/CurrentProjects/chills/chop/timetables/p30_2',\n",
       " 'cutmp3 -i /home/tejaswik/Documents/CurrentProjects/chills/songs/CecilieChiem/s3.mp3 -f /home/tejaswik/Documents/CurrentProjects/chills/chop/timetables/p17_2',\n",
       " 'cutmp3 -i /home/tejaswik/Documents/CurrentProjects/chills/songs/JuneKval/s3.mp3 -f /home/tejaswik/Documents/CurrentProjects/chills/chop/timetables/p44_2',\n",
       " 'cutmp3 -i /home/tejaswik/Documents/CurrentProjects/chills/songs/BredeAndreStraede/s1.mp3 -f /home/tejaswik/Documents/CurrentProjects/chills/chop/timetables/p34_0',\n",
       " 'cutmp3 -i /home/tejaswik/Documents/CurrentProjects/chills/songs/LudmilaArnesen/s3.mp3 -f /home/tejaswik/Documents/CurrentProjects/chills/chop/timetables/p36_2',\n",
       " 'cutmp3 -i /home/tejaswik/Documents/CurrentProjects/chills/songs/KnutSyversen/s1.mp3 -f /home/tejaswik/Documents/CurrentProjects/chills/chop/timetables/p38_0',\n",
       " 'cutmp3 -i /home/tejaswik/Documents/CurrentProjects/chills/songs/UnniSulutvedt/s3.mp3 -f /home/tejaswik/Documents/CurrentProjects/chills/chop/timetables/p26_2',\n",
       " 'cutmp3 -i /home/tejaswik/Documents/CurrentProjects/chills/songs/JorgenSyversen/s1.mp3 -f /home/tejaswik/Documents/CurrentProjects/chills/chop/timetables/p43_0',\n",
       " 'cutmp3 -i /home/tejaswik/Documents/CurrentProjects/chills/songs/MaritLobben/s3.mp3 -f /home/tejaswik/Documents/CurrentProjects/chills/chop/timetables/p15_2',\n",
       " 'cutmp3 -i /home/tejaswik/Documents/CurrentProjects/chills/songs/ErlendGunnesen/s1.mp3 -f /home/tejaswik/Documents/CurrentProjects/chills/chop/timetables/p42_0',\n",
       " 'cutmp3 -i /home/tejaswik/Documents/CurrentProjects/chills/songs/HanneSyversen/s3.mp3 -f /home/tejaswik/Documents/CurrentProjects/chills/chop/timetables/p5_2',\n",
       " 'cutmp3 -i /home/tejaswik/Documents/CurrentProjects/chills/songs/ErlendGunnesen/s2.mp3 -f /home/tejaswik/Documents/CurrentProjects/chills/chop/timetables/p42_1',\n",
       " 'cutmp3 -i /home/tejaswik/Documents/CurrentProjects/chills/songs/LineNielsen/s1.mp3 -f /home/tejaswik/Documents/CurrentProjects/chills/chop/timetables/p41_0',\n",
       " 'cutmp3 -i /home/tejaswik/Documents/CurrentProjects/chills/songs/JulianBergheim/s1.mp3 -f /home/tejaswik/Documents/CurrentProjects/chills/chop/timetables/p21_0',\n",
       " 'cutmp3 -i /home/tejaswik/Documents/CurrentProjects/chills/songs/TrondBie/s2.mp3 -f /home/tejaswik/Documents/CurrentProjects/chills/chop/timetables/p25_1',\n",
       " 'cutmp3 -i /home/tejaswik/Documents/CurrentProjects/chills/songs/JorgenSyversen/s3.mp3 -f /home/tejaswik/Documents/CurrentProjects/chills/chop/timetables/p43_2',\n",
       " 'cutmp3 -i /home/tejaswik/Documents/CurrentProjects/chills/songs/EspenTolpinrud/s2.mp3 -f /home/tejaswik/Documents/CurrentProjects/chills/chop/timetables/p6_1',\n",
       " 'cutmp3 -i /home/tejaswik/Documents/CurrentProjects/chills/songs/ChristianBerg/s1.mp3 -f /home/tejaswik/Documents/CurrentProjects/chills/chop/timetables/p47_0',\n",
       " 'cutmp3 -i /home/tejaswik/Documents/CurrentProjects/chills/songs/JuneKval/s2.mp3 -f /home/tejaswik/Documents/CurrentProjects/chills/chop/timetables/p44_1',\n",
       " 'cutmp3 -i /home/tejaswik/Documents/CurrentProjects/chills/songs/TrondBie/s1.mp3 -f /home/tejaswik/Documents/CurrentProjects/chills/chop/timetables/p25_0',\n",
       " 'cutmp3 -i /home/tejaswik/Documents/CurrentProjects/chills/songs/BredeAndreStraede/s3.mp3 -f /home/tejaswik/Documents/CurrentProjects/chills/chop/timetables/p34_2',\n",
       " 'cutmp3 -i /home/tejaswik/Documents/CurrentProjects/chills/songs/JonasWorren/s1.mp3 -f /home/tejaswik/Documents/CurrentProjects/chills/chop/timetables/p14_0',\n",
       " 'cutmp3 -i /home/tejaswik/Documents/CurrentProjects/chills/songs/HelgeHasund/s1.mp3 -f /home/tejaswik/Documents/CurrentProjects/chills/chop/timetables/p39_0',\n",
       " 'cutmp3 -i /home/tejaswik/Documents/CurrentProjects/chills/songs/KevinGalaen/s1.mp3 -f /home/tejaswik/Documents/CurrentProjects/chills/chop/timetables/p4_0',\n",
       " 'cutmp3 -i /home/tejaswik/Documents/CurrentProjects/chills/songs/LarsOstbyePedersen/s2.mp3 -f /home/tejaswik/Documents/CurrentProjects/chills/chop/timetables/p19_1',\n",
       " 'cutmp3 -i /home/tejaswik/Documents/CurrentProjects/chills/songs/CecilieChiem/s1.mp3 -f /home/tejaswik/Documents/CurrentProjects/chills/chop/timetables/p17_0',\n",
       " 'cutmp3 -i /home/tejaswik/Documents/CurrentProjects/chills/songs/AnneLiseStokken/s1.mp3 -f /home/tejaswik/Documents/CurrentProjects/chills/chop/timetables/p1_0',\n",
       " 'cutmp3 -i /home/tejaswik/Documents/CurrentProjects/chills/songs/RunaMyhrer/s2.mp3 -f /home/tejaswik/Documents/CurrentProjects/chills/chop/timetables/p2_1',\n",
       " 'cutmp3 -i /home/tejaswik/Documents/CurrentProjects/chills/songs/Bruno/s1.mp3 -f /home/tejaswik/Documents/CurrentProjects/chills/chop/timetables/p50_0',\n",
       " 'cutmp3 -i /home/tejaswik/Documents/CurrentProjects/chills/songs/HelgeHasund/s3.mp3 -f /home/tejaswik/Documents/CurrentProjects/chills/chop/timetables/p39_2',\n",
       " 'cutmp3 -i /home/tejaswik/Documents/CurrentProjects/chills/songs/MariaLouise/s2.mp3 -f /home/tejaswik/Documents/CurrentProjects/chills/chop/timetables/p28_1',\n",
       " 'cutmp3 -i /home/tejaswik/Documents/CurrentProjects/chills/songs/LillKarolineSyversen/s1.mp3 -f /home/tejaswik/Documents/CurrentProjects/chills/chop/timetables/p30_0',\n",
       " 'cutmp3 -i /home/tejaswik/Documents/CurrentProjects/chills/songs/OscarTronrud/s1.mp3 -f /home/tejaswik/Documents/CurrentProjects/chills/chop/timetables/p3_0',\n",
       " 'cutmp3 -i /home/tejaswik/Documents/CurrentProjects/chills/songs/KristinaHauger/s1.mp3 -f /home/tejaswik/Documents/CurrentProjects/chills/chop/timetables/p8_0',\n",
       " 'cutmp3 -i /home/tejaswik/Documents/CurrentProjects/chills/songs/LucianAmundsen/s2.mp3 -f /home/tejaswik/Documents/CurrentProjects/chills/chop/timetables/p13_1',\n",
       " 'cutmp3 -i /home/tejaswik/Documents/CurrentProjects/chills/songs/JonasWorren/s3.mp3 -f /home/tejaswik/Documents/CurrentProjects/chills/chop/timetables/p14_2',\n",
       " 'cutmp3 -i /home/tejaswik/Documents/CurrentProjects/chills/songs/SarahForsudd/s3.mp3 -f /home/tejaswik/Documents/CurrentProjects/chills/chop/timetables/p22_2',\n",
       " 'cutmp3 -i /home/tejaswik/Documents/CurrentProjects/chills/songs/OscarTronrud/s2.mp3 -f /home/tejaswik/Documents/CurrentProjects/chills/chop/timetables/p3_1',\n",
       " 'cutmp3 -i /home/tejaswik/Documents/CurrentProjects/chills/songs/AnneLiseStokken/s2.mp3 -f /home/tejaswik/Documents/CurrentProjects/chills/chop/timetables/p1_1',\n",
       " 'cutmp3 -i /home/tejaswik/Documents/CurrentProjects/chills/songs/NikolaiMarstein/s2.mp3 -f /home/tejaswik/Documents/CurrentProjects/chills/chop/timetables/p49_1',\n",
       " 'cutmp3 -i /home/tejaswik/Documents/CurrentProjects/chills/songs/RunaMyhrer/s3.mp3 -f /home/tejaswik/Documents/CurrentProjects/chills/chop/timetables/p2_2',\n",
       " 'cutmp3 -i /home/tejaswik/Documents/CurrentProjects/chills/songs/IdaMeyer/s3.mp3 -f /home/tejaswik/Documents/CurrentProjects/chills/chop/timetables/p40_2',\n",
       " 'cutmp3 -i /home/tejaswik/Documents/CurrentProjects/chills/songs/TinaJohannesen/s3.mp3 -f /home/tejaswik/Documents/CurrentProjects/chills/chop/timetables/p12_2',\n",
       " 'cutmp3 -i /home/tejaswik/Documents/CurrentProjects/chills/songs/NikolaiMarstein/s3.mp3 -f /home/tejaswik/Documents/CurrentProjects/chills/chop/timetables/p49_2',\n",
       " 'cutmp3 -i /home/tejaswik/Documents/CurrentProjects/chills/songs/AnneMarteOppstad/s1.mp3 -f /home/tejaswik/Documents/CurrentProjects/chills/chop/timetables/p0_0',\n",
       " 'cutmp3 -i /home/tejaswik/Documents/CurrentProjects/chills/songs/IngunnMella/s2.mp3 -f /home/tejaswik/Documents/CurrentProjects/chills/chop/timetables/p20_1',\n",
       " 'cutmp3 -i /home/tejaswik/Documents/CurrentProjects/chills/songs/MajaFoldal/s2.mp3 -f /home/tejaswik/Documents/CurrentProjects/chills/chop/timetables/p16_1',\n",
       " 'cutmp3 -i /home/tejaswik/Documents/CurrentProjects/chills/songs/HelgeHasund/s2.mp3 -f /home/tejaswik/Documents/CurrentProjects/chills/chop/timetables/p39_1',\n",
       " 'cutmp3 -i /home/tejaswik/Documents/CurrentProjects/chills/songs/MalinKristine/s3.mp3 -f /home/tejaswik/Documents/CurrentProjects/chills/chop/timetables/p10_2',\n",
       " 'cutmp3 -i /home/tejaswik/Documents/CurrentProjects/chills/songs/MariusSaasen/s1.mp3 -f /home/tejaswik/Documents/CurrentProjects/chills/chop/timetables/p11_0',\n",
       " 'cutmp3 -i /home/tejaswik/Documents/CurrentProjects/chills/songs/Bruno/s3.mp3 -f /home/tejaswik/Documents/CurrentProjects/chills/chop/timetables/p50_2',\n",
       " 'cutmp3 -i /home/tejaswik/Documents/CurrentProjects/chills/songs/SaraSkilbredFjeld/s2.mp3 -f /home/tejaswik/Documents/CurrentProjects/chills/chop/timetables/p29_1',\n",
       " 'cutmp3 -i /home/tejaswik/Documents/CurrentProjects/chills/songs/MathiasNesheim/s3.mp3 -f /home/tejaswik/Documents/CurrentProjects/chills/chop/timetables/p27_2',\n",
       " 'cutmp3 -i /home/tejaswik/Documents/CurrentProjects/chills/songs/CelineMartinsen/s2.mp3 -f /home/tejaswik/Documents/CurrentProjects/chills/chop/timetables/p23_1',\n",
       " 'cutmp3 -i /home/tejaswik/Documents/CurrentProjects/chills/songs/LudmilaArnesen/s1.mp3 -f /home/tejaswik/Documents/CurrentProjects/chills/chop/timetables/p36_0',\n",
       " 'cutmp3 -i /home/tejaswik/Documents/CurrentProjects/chills/songs/MathiasNesheim/s1.mp3 -f /home/tejaswik/Documents/CurrentProjects/chills/chop/timetables/p27_0',\n",
       " 'cutmp3 -i /home/tejaswik/Documents/CurrentProjects/chills/songs/MaritLobben/s1.mp3 -f /home/tejaswik/Documents/CurrentProjects/chills/chop/timetables/p15_0',\n",
       " 'cutmp3 -i /home/tejaswik/Documents/CurrentProjects/chills/songs/IngunnOpstad/s1.mp3 -f /home/tejaswik/Documents/CurrentProjects/chills/chop/timetables/p46_0',\n",
       " 'cutmp3 -i /home/tejaswik/Documents/CurrentProjects/chills/songs/BredeAndreStraede/s2.mp3 -f /home/tejaswik/Documents/CurrentProjects/chills/chop/timetables/p34_1',\n",
       " 'cutmp3 -i /home/tejaswik/Documents/CurrentProjects/chills/songs/SarahForsudd/s2.mp3 -f /home/tejaswik/Documents/CurrentProjects/chills/chop/timetables/p22_1',\n",
       " 'cutmp3 -i /home/tejaswik/Documents/CurrentProjects/chills/songs/HenrietteKarlsen/s1.mp3 -f /home/tejaswik/Documents/CurrentProjects/chills/chop/timetables/p7_0',\n",
       " 'cutmp3 -i /home/tejaswik/Documents/CurrentProjects/chills/songs/AnneLiseStokken/s3.mp3 -f /home/tejaswik/Documents/CurrentProjects/chills/chop/timetables/p1_2',\n",
       " 'cutmp3 -i /home/tejaswik/Documents/CurrentProjects/chills/songs/DagEidet/s3.mp3 -f /home/tejaswik/Documents/CurrentProjects/chills/chop/timetables/p37_2',\n",
       " 'cutmp3 -i /home/tejaswik/Documents/CurrentProjects/chills/songs/KevinGalaen/s2.mp3 -f /home/tejaswik/Documents/CurrentProjects/chills/chop/timetables/p4_1',\n",
       " 'cutmp3 -i /home/tejaswik/Documents/CurrentProjects/chills/songs/EivindSkughei/s1.mp3 -f /home/tejaswik/Documents/CurrentProjects/chills/chop/timetables/p45_0',\n",
       " 'cutmp3 -i /home/tejaswik/Documents/CurrentProjects/chills/songs/TinaJohannesen/s2.mp3 -f /home/tejaswik/Documents/CurrentProjects/chills/chop/timetables/p12_1',\n",
       " 'cutmp3 -i /home/tejaswik/Documents/CurrentProjects/chills/songs/EivindSkughei/s2.mp3 -f /home/tejaswik/Documents/CurrentProjects/chills/chop/timetables/p45_1']"
      ]
     },
     "execution_count": 13,
     "metadata": {},
     "output_type": "execute_result"
    }
   ],
   "source": [
    "check"
   ]
  },
  {
   "cell_type": "code",
   "execution_count": 46,
   "metadata": {
    "collapsed": false
   },
   "outputs": [],
   "source": [
    "'''\n",
    "This piece of code is to clear contents of all timetables\n",
    "'''\n",
    "fil2 = '/home/tejaswik/Documents/CurrentProjects/chills/chop/timetables/'\n",
    "\n",
    "for i in range(1,1242,1):\n",
    "    part_id = chillsdict['participant'][i]\n",
    "    song_id = chillsdict['song'][i]\n",
    "    filename = fil2+'p'+str(part_id)+'_'+str(song_id)\n",
    "    with open(filename,'w') as text_file:\n",
    "        text_file.write('')\n",
    "        "
   ]
  }
 ],
 "metadata": {
  "kernelspec": {
   "display_name": "Python 2",
   "language": "python",
   "name": "python2"
  },
  "language_info": {
   "codemirror_mode": {
    "name": "ipython",
    "version": 2
   },
   "file_extension": ".py",
   "mimetype": "text/x-python",
   "name": "python",
   "nbconvert_exporter": "python",
   "pygments_lexer": "ipython2",
   "version": "2.7.13"
  }
 },
 "nbformat": 4,
 "nbformat_minor": 0
}
