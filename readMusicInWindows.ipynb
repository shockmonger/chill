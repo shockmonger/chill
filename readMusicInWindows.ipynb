{
 "cells": [
  {
   "cell_type": "code",
   "execution_count": 6,
   "metadata": {
    "collapsed": false
   },
   "outputs": [],
   "source": [
    "import os\n",
    "import openpyxl\n",
    "import pandas as pd\n",
    "import shutil\n",
    "from unidecode import unidecode\n",
    "import xlrd\n",
    "import essentia\n",
    "\n",
    "\n",
    "fil = r\"/home/tejaswik/Documents/CurrentProjects/chills\"\n",
    "\n",
    "parts = os.listdir(\"/home/tejaswik/Documents/CurrentProjects/chills/indivData\")\n",
    "parts[21]=u'AinaOvre.xlsx'\n",
    "n = len(parts)\n",
    "m = 3\n",
    "# df1 = []\n",
    "# df2 = []\n",
    "# df3 = []\n",
    "#d = [[] for x in xrange(n)]   \n",
    "\n",
    "d = pd.DataFrame()\n",
    "h = pd.DataFrame()"
   ]
  },
  {
   "cell_type": "code",
   "execution_count": 7,
   "metadata": {
    "collapsed": false
   },
   "outputs": [],
   "source": [
    "for i in range(0,n):\n",
    "    p = parts[i]\n",
    "    x = pd.ExcelFile('/home/tejaswik/Documents/CurrentProjects/chills/indivData/'+p)\n",
    "    q = x.sheet_names\n",
    "    df1 = x.parse(q[0])\n",
    "    df2 = x.parse(q[1])\n",
    "    df3 = x.parse(q[2])\n",
    "    h = pd.concat([df1,df2,df3])\n",
    "    "
   ]
  },
  {
   "cell_type": "code",
   "execution_count": 3,
   "metadata": {
    "collapsed": false
   },
   "outputs": [
    {
     "data": {
      "text/plain": [
       "pandas.core.frame.DataFrame"
      ]
     },
     "execution_count": 3,
     "metadata": {},
     "output_type": "execute_result"
    }
   ],
   "source": [
    "type(df1)\n",
    "\n",
    "# file = open('test.txt', 'w')\n",
    "# file.writelines([\"%s\\n\" % item  for item in d])\n",
    "\n",
    "# with open('datalist.txt','w') as f:\n",
    "#     f.write( ','.join(d) )    "
   ]
  },
  {
   "cell_type": "code",
   "execution_count": null,
   "metadata": {
    "collapsed": true
   },
   "outputs": [],
   "source": [
    "# df0s['L Raw X [px]'].str.contains('# Message: UE-keypress C')\n",
    "for i in range(0,n):\n",
    "    for j in range(0,2):\n",
    "        "
   ]
  }
 ],
 "metadata": {
  "kernelspec": {
   "display_name": "Python 2",
   "language": "python",
   "name": "python2"
  },
  "language_info": {
   "codemirror_mode": {
    "name": "ipython",
    "version": 2
   },
   "file_extension": ".py",
   "mimetype": "text/x-python",
   "name": "python",
   "nbconvert_exporter": "python",
   "pygments_lexer": "ipython2",
   "version": "2.7.12"
  }
 },
 "nbformat": 4,
 "nbformat_minor": 0
}
