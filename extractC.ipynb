{
 "cells": [
  {
   "cell_type": "code",
   "execution_count": 1,
   "metadata": {},
   "outputs": [
    {
     "data": {
      "text/plain": [
       "'AnneMarteOppstad.xlsx'"
      ]
     },
     "execution_count": 1,
     "metadata": {},
     "output_type": "execute_result"
    }
   ],
   "source": [
    "import os\n",
    "import openpyxl\n",
    "import shutil\n",
    "from unidecode import unidecode\n",
    "import pandas as pd\n",
    "import numpy as np\n",
    "import librosa\n",
    "\n",
    "\n",
    "parts = os.listdir(\"/home/tejaswik/Documents/CurrentProjects/chills/indivData\")\n",
    "\n",
    "\n",
    "data = pd.DataFrame()\n",
    "fil = '/home/tejaswik/Documents/CurrentProjects/chills/indivData/'\n",
    "parts[0]"
   ]
  },
  {
   "cell_type": "code",
   "execution_count": 2,
   "metadata": {},
   "outputs": [
    {
     "name": "stderr",
     "output_type": "stream",
     "text": [
      "/usr/local/lib/python2.7/dist-packages/openpyxl/reader/worksheet.py:310: UserWarning: Unknown extension is not supported and will be removed\n",
      "  warn(msg)\n"
     ]
    }
   ],
   "source": [
    "\"\"\"Workbook[sheets[values[#messagekeypressID,#messagekeypressID]]]\"\"\"\n",
    "\n",
    "for i in range(0,len(parts),1):\n",
    "    wb = openpyxl.load_workbook(filename = fil+parts[i])\n",
    "    sheets = wb.get_sheet_names()\n",
    "    for j in range(0,3,1):\n",
    "        name = sheets[j]\n",
    "        sheet_ranges = wb[name]\n",
    "        df = pd.DataFrame(sheet_ranges.values)\n",
    "        df.columns = ['id','ms','time','type','key','lmapped','rmapped']\n",
    "        newdf = df.sort_values('type')\n",
    "        locs = newdf.loc[(df['key']=='# Message: UE-keypress C') & (df['type']=='MSG')]\n",
    "        ids = locs.filter(['id'],axis =1)\n",
    "        ids['participant'] = i\n",
    "        ids['song'] = j\n",
    "        frames = [data,ids]\n",
    "        data= pd.concat(frames)\n"
   ]
  },
  {
   "cell_type": "code",
   "execution_count": 3,
   "metadata": {},
   "outputs": [],
   "source": [
    "data = data.reset_index()\n",
    "data= data[['id', 'participant','song']]\n",
    "data\n",
    "\n",
    "fil = '/home/tejaswik/Documents/CurrentProjects/chills/songs/'\n",
    "songsel = {0 : 's1', 1 : 's2', 2 : 's3'}\n",
    "\n",
    "length = 1241"
   ]
  },
  {
   "cell_type": "code",
   "execution_count": 4,
   "metadata": {},
   "outputs": [
    {
     "ename": "NameError",
     "evalue": "name 'before' is not defined",
     "output_type": "error",
     "traceback": [
      "\u001b[0;31m----------------------------------------------\u001b[0m",
      "\u001b[0;31mNameError\u001b[0m    Traceback (most recent call last)",
      "\u001b[0;32m<ipython-input-4-b2036091d5fa>\u001b[0m in \u001b[0;36m<module>\u001b[0;34m()\u001b[0m\n\u001b[1;32m      1\u001b[0m \u001b[0;31m#before.to_csv('timestamps.csv',encoding = 'utf-8')\u001b[0m\u001b[0;34m\u001b[0m\u001b[0;34m\u001b[0m\u001b[0m\n\u001b[0;32m----> 2\u001b[0;31m \u001b[0mbefore\u001b[0m\u001b[0;34m[\u001b[0m\u001b[0;34m'id'\u001b[0m\u001b[0;34m]\u001b[0m \u001b[0;34m*=\u001b[0m \u001b[0;36m0.00027766\u001b[0m\u001b[0;34m\u001b[0m\u001b[0m\n\u001b[0m\u001b[1;32m      3\u001b[0m \u001b[0mbefore\u001b[0m\u001b[0;34m\u001b[0m\u001b[0m\n",
      "\u001b[0;31mNameError\u001b[0m: name 'before' is not defined"
     ]
    }
   ],
   "source": [
    "#before.to_csv('timestamps.csv',encoding = 'utf-8')\n",
    "before['id'] *= 0.00027766\n",
    "before"
   ]
  },
  {
   "cell_type": "code",
   "execution_count": null,
   "metadata": {},
   "outputs": [],
   "source": [
    "#data = data.reset_index()\n",
    "\n",
    "#data.columns= ['ms', 'part', 'song']\n",
    "\n",
    "# for i in range(0,len(parts),1):\n",
    "#     parts[i] = parts[i][:-5]\n",
    "\n",
    "before = data\n",
    "after = data\n",
    "\n",
    "before['id'] *= 0.00027766\n",
    "#data.to_csv('chills.csv',encoding='utf-8')\n",
    "#before.to_csv('before.csv',encoding='utf-8')"
   ]
  },
  {
   "cell_type": "code",
   "execution_count": null,
   "metadata": {},
   "outputs": [],
   "source": [
    "before"
   ]
  },
  {
   "cell_type": "code",
   "execution_count": null,
   "metadata": {},
   "outputs": [],
   "source": []
  },
  {
   "cell_type": "code",
   "execution_count": null,
   "metadata": {},
   "outputs": [],
   "source": [
    "datadict = before.to_dict()\n",
    "\n",
    "frame = audio[6*44100 : 6*44100 + 1024]\n",
    "spec = spectrum(w(frame))\n",
    "mfcc_bands, mfcc_coeffs = mfcc(spec)\n",
    "#plot(spec)\n",
    "#plt.title('frame spectrum')\n",
    "#SPEC is a numpy array now - in this case it is 513 samples, depending upon the window \n",
    "\n",
    "\n",
    "def loudcalc(song, ms):\n",
    "        audio = librosa.load(song)\n",
    "        spectral_centroids = librosa.feature.spectral_centroid(audio,sr=44100)\n",
    "        plt.plot(spectral_centroids[0])\n",
    "\n",
    "        \n",
    "loudcalc(fname,id_id)\n",
    "# for i in range(0,length,1):\n",
    "#     part_id = datadict['participant'][i]\n",
    "#     song_id = datadict['song'][i]\n",
    "#     id_id = datadict['id'][i]\n",
    "#     fname = fil+parts[part_id]+'/'+songsel[song_id]+'.mp3'\n",
    "#     loudcalc(fname, id_id);"
   ]
  },
  {
   "cell_type": "code",
   "execution_count": null,
   "metadata": {},
   "outputs": [],
   "source": [
    "specs = []\n",
    "contours = []\n",
    "loudnesses = []\n",
    "\n",
    "fil = '/home/tejaswik/Documents/CurrentProjects/chills/songs/'\n",
    "songsel = {0 : 's1', 1 : 's2', 2 : 's3'}\n",
    "\n",
    "length = 1241\n",
    "\n",
    "from essentia.standard import *\n",
    "w = Windowing(type = 'hann')\n",
    "spectrum = Spectrum()\n",
    "mfcc = MFCC()\n",
    "\n",
    "def spec_proc(song, ms):\n",
    "    loader = essentia.standard.MonoLoader(filename=song)\n",
    "    audio = loader()\n",
    "    msb = ms -1\n",
    "    frame = audio[ms*44100 : ms*44100+1024]\n",
    "    spec = spectrum(w(frame))\n",
    "    specs.append(spec)\n",
    "\n",
    "\n",
    "for i in range(0,length,1):\n",
    "    part_id = datadict['participant'][i]\n",
    "    song_id = datadict['song'][i]\n",
    "    id_id = datadict['id'][i]\n",
    "    fname = fil+parts[part_id]+'/'+songsel[song_id]+'.mp3'\n",
    "    spec_proc(fname, id_id);\n",
    "    "
   ]
  },
  {
   "cell_type": "code",
   "execution_count": 9,
   "metadata": {},
   "outputs": [
    {
     "ename": "NameError",
     "evalue": "name 'part_id' is not defined",
     "output_type": "error",
     "traceback": [
      "\u001b[0;31m----------------------------------------------\u001b[0m",
      "\u001b[0;31mNameError\u001b[0m    Traceback (most recent call last)",
      "\u001b[0;32m<ipython-input-9-ac0e7bcb2b45>\u001b[0m in \u001b[0;36m<module>\u001b[0;34m()\u001b[0m\n\u001b[0;32m----> 1\u001b[0;31m \u001b[0mfname\u001b[0m \u001b[0;34m=\u001b[0m \u001b[0mfil\u001b[0m\u001b[0;34m+\u001b[0m\u001b[0mparts\u001b[0m\u001b[0;34m[\u001b[0m\u001b[0mpart_id\u001b[0m\u001b[0;34m]\u001b[0m\u001b[0;34m+\u001b[0m\u001b[0;34m'/'\u001b[0m\u001b[0;34m+\u001b[0m\u001b[0msongsel\u001b[0m\u001b[0;34m[\u001b[0m\u001b[0msong_id\u001b[0m\u001b[0;34m]\u001b[0m\u001b[0;34m+\u001b[0m\u001b[0;34m'.mp3'\u001b[0m\u001b[0;34m\u001b[0m\u001b[0m\n\u001b[0m\u001b[1;32m      2\u001b[0m \u001b[0mid_id\u001b[0m\u001b[0;34m\u001b[0m\u001b[0m\n",
      "\u001b[0;31mNameError\u001b[0m: name 'part_id' is not defined"
     ]
    }
   ],
   "source": [
    "fname = fil+parts[part_id]+'/'+songsel[song_id]+'.mp3'\n",
    "id_id"
   ]
  },
  {
   "cell_type": "code",
   "execution_count": 8,
   "metadata": {},
   "outputs": [
    {
     "ename": "NameError",
     "evalue": "name 'audio' is not defined",
     "output_type": "error",
     "traceback": [
      "\u001b[0;31m----------------------------------------------\u001b[0m",
      "\u001b[0;31mNameError\u001b[0m    Traceback (most recent call last)",
      "\u001b[0;32m<ipython-input-8-f4874e9a1675>\u001b[0m in \u001b[0;36m<module>\u001b[0;34m()\u001b[0m\n\u001b[1;32m      3\u001b[0m \u001b[0;32mimport\u001b[0m \u001b[0mmatplotlib\u001b[0m\u001b[0;34m.\u001b[0m\u001b[0mpyplot\u001b[0m \u001b[0;32mas\u001b[0m \u001b[0mplt\u001b[0m\u001b[0;34m\u001b[0m\u001b[0m\n\u001b[1;32m      4\u001b[0m \u001b[0mplt\u001b[0m\u001b[0;34m.\u001b[0m\u001b[0mrcParams\u001b[0m\u001b[0;34m[\u001b[0m\u001b[0;34m'figure.figsize'\u001b[0m\u001b[0;34m]\u001b[0m \u001b[0;34m=\u001b[0m \u001b[0;34m(\u001b[0m\u001b[0;36m15\u001b[0m\u001b[0;34m,\u001b[0m\u001b[0;36m6\u001b[0m\u001b[0;34m)\u001b[0m\u001b[0;34m\u001b[0m\u001b[0m\n\u001b[0;32m----> 5\u001b[0;31m \u001b[0mplot\u001b[0m\u001b[0;34m(\u001b[0m\u001b[0maudio\u001b[0m\u001b[0;34m[\u001b[0m\u001b[0;36m1\u001b[0m\u001b[0;34m*\u001b[0m\u001b[0;36m44100\u001b[0m\u001b[0;34m:\u001b[0m\u001b[0;36m5\u001b[0m\u001b[0;34m*\u001b[0m\u001b[0;36m44100\u001b[0m\u001b[0;34m]\u001b[0m\u001b[0;34m)\u001b[0m\u001b[0;34m\u001b[0m\u001b[0m\n\u001b[0m\u001b[1;32m      6\u001b[0m \u001b[0mplt\u001b[0m\u001b[0;34m.\u001b[0m\u001b[0mtitle\u001b[0m\u001b[0;34m(\u001b[0m\u001b[0;34m'a second of audio'\u001b[0m\u001b[0;34m)\u001b[0m\u001b[0;34m\u001b[0m\u001b[0m\n\u001b[1;32m      7\u001b[0m \u001b[0mshow\u001b[0m\u001b[0;34m(\u001b[0m\u001b[0;34m)\u001b[0m\u001b[0;34m\u001b[0m\u001b[0m\n",
      "\u001b[0;31mNameError\u001b[0m: name 'audio' is not defined"
     ]
    }
   ],
   "source": [
    "from pylab import plot, show, figure, imshow\n",
    "%matplotlib inline\n",
    "import matplotlib.pyplot as plt\n",
    "plt.rcParams['figure.figsize'] = (15,6)\n",
    "plot(audio[1*44100:5*44100])\n",
    "plt.title('a second of audio')\n",
    "show()"
   ]
  },
  {
   "cell_type": "code",
   "execution_count": 31,
   "metadata": {},
   "outputs": [],
   "source": [
    "#MFCC is an essentia standard algo object\n",
    "\n",
    "#global energy sound pressure level\n",
    "#spectral flux / chroma\n",
    "#ascending contour\n",
    "#pulse clarity \n",
    "#mfcc"
   ]
  },
  {
   "cell_type": "code",
   "execution_count": 11,
   "metadata": {},
   "outputs": [
    {
     "ename": "NameError",
     "evalue": "name 'specs' is not defined",
     "output_type": "error",
     "traceback": [
      "\u001b[0;31m----------------------------------------------\u001b[0m",
      "\u001b[0;31mNameError\u001b[0m    Traceback (most recent call last)",
      "\u001b[0;32m<ipython-input-11-c1326596e61a>\u001b[0m in \u001b[0;36m<module>\u001b[0;34m()\u001b[0m\n\u001b[0;32m----> 1\u001b[0;31m \u001b[0mplot\u001b[0m\u001b[0;34m(\u001b[0m\u001b[0mspecs\u001b[0m\u001b[0;34m[\u001b[0m\u001b[0;36m4\u001b[0m\u001b[0;34m]\u001b[0m\u001b[0;34m)\u001b[0m\u001b[0;34m\u001b[0m\u001b[0m\n\u001b[0m",
      "\u001b[0;31mNameError\u001b[0m: name 'specs' is not defined"
     ]
    }
   ],
   "source": [
    "plot(specs[4])"
   ]
  }
 ],
 "metadata": {
  "kernelspec": {
   "display_name": "Python 2",
   "language": "python",
   "name": "python2"
  },
  "language_info": {
   "codemirror_mode": {
    "name": "ipython",
    "version": 2
   },
   "file_extension": ".py",
   "mimetype": "text/x-python",
   "name": "python",
   "nbconvert_exporter": "python",
   "pygments_lexer": "ipython2",
   "version": "2.7.14"
  }
 },
 "nbformat": 4,
 "nbformat_minor": 1
}
