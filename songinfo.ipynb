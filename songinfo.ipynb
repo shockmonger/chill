{
 "cells": [
  {
   "cell_type": "code",
   "execution_count": 6,
   "metadata": {},
   "outputs": [],
   "source": [
    "%run chillscript.py"
   ]
  },
  {
   "cell_type": "code",
   "execution_count": 7,
   "metadata": {},
   "outputs": [],
   "source": [
    "%matplotlib inline"
   ]
  },
  {
   "cell_type": "code",
   "execution_count": 8,
   "metadata": {},
   "outputs": [],
   "source": [
    "eachsong = pd.DataFrame.from_csv('/home/tejaswik/Documents/CurrentProjects/chills/eachSong.csv')"
   ]
  },
  {
   "cell_type": "code",
   "execution_count": 4,
   "metadata": {},
   "outputs": [
    {
     "data": {
      "text/plain": [
       "153"
      ]
     },
     "execution_count": 4,
     "metadata": {},
     "output_type": "execute_result"
    }
   ],
   "source": [
    "len(eachsong)"
   ]
  },
  {
   "cell_type": "code",
   "execution_count": 14,
   "metadata": {},
   "outputs": [],
   "source": [
    "'''mean Energy and Mean RMS for each song'''\n",
    "\n",
    "meanEn = []\n",
    "meanRMS = []\n",
    "\n",
    "for i in range(0,152,1):\n",
    "    filename = fil+'songs/'+eachSong['folder'][i]+'/'+eachSong['song'][i]+'.mp3'\n",
    "    meanEn.append(calcEn(filename)['meanEn'])\n",
    "    meanRMS.append(calcEn(filename)['meanRMS'])"
   ]
  },
  {
   "cell_type": "code",
   "execution_count": null,
   "metadata": {},
   "outputs": [],
   "source": [
    "'''load finalchills dataset instead of creating'''\n",
    "\n",
    "\n",
    "wb = openpyxl.load_workbook(filename = fil+'finalchills.xlsx')\n",
    "sheets = wb.get_sheet_names()\n",
    "name = sheets[0]\n",
    "sheet_ranges = wb[name]\n",
    "df = pd.DataFrame(sheet_ranges.values)\n",
    "df.columns = ['id','participant','song','start','end']"
   ]
  },
  {
   "cell_type": "code",
   "execution_count": 9,
   "metadata": {},
   "outputs": [],
   "source": [
    "'''rmse before and after samples'''\n",
    "\n",
    "chips = os.listdir('/home/tejaswik/Documents/CurrentProjects/chills/random/')\n",
    "befores  = []\n",
    "afters = []\n",
    "for i in range(len(chips)):\n",
    "    filename = fil+'/random/'+chips[i]\n",
    "    befores.append(ratioCalc(filename)['before'])\n",
    "    afters.append(ratioCalc(filename)['after'])"
   ]
  },
  {
   "cell_type": "code",
   "execution_count": 10,
   "metadata": {},
   "outputs": [
    {
     "data": {
      "text/plain": [
       "<matplotlib.collections.PathCollection at 0x7f3ff2d5bed0>"
      ]
     },
     "execution_count": 10,
     "metadata": {},
     "output_type": "execute_result"
    },
    {
     "data": {
      "image/png": "[encoded data removed]",
      "text/plain": [
       "<matplotlib.figure.Figure at 0x7f4005f16950>"
      ]
     },
     "metadata": {},
     "output_type": "display_data"
    }
   ],
   "source": [
    "plt.scatter(befores,afters)"
   ]
  },
  {
   "cell_type": "code",
   "execution_count": 11,
   "metadata": {},
   "outputs": [
    {
     "data": {
      "text/plain": [
       "array([ 0.14113537])"
      ]
     },
     "execution_count": 11,
     "metadata": {},
     "output_type": "execute_result"
    }
   ],
   "source": [
    "y = np.polyfit(befores,afters,befores[i], rcond=None, full=False, w =None, cov=False)\n",
    "y"
   ]
  },
  {
   "cell_type": "code",
   "execution_count": 15,
   "metadata": {},
   "outputs": [
    {
     "name": "stdout",
     "output_type": "stream",
     "text": [
      "(32.2811798995209, 0.14280924)\n",
      "(30.25706776040132, 0.080587812)\n",
      "(129.71726860317585, 0.34723336)\n",
      "(0.19315015797290491, 0.012319678)\n"
     ]
    }
   ],
   "source": [
    "# for i in range(len(befores)):\n",
    "import scipy\n",
    "import numpy as np\n",
    "\n",
    "print(np.mean(meanEn),np.mean(meanRMS))\n",
    "print(np.std(meanEn),np.std(meanRMS))\n",
    "print(max(meanEn),max(meanRMS))\n",
    "print(min(meanEn),min(meanRMS))\n"
   ]
  },
  {
   "cell_type": "code",
   "execution_count": 19,
   "metadata": {},
   "outputs": [
    {
     "data": {
      "text/plain": [
       "152"
      ]
     },
     "execution_count": 19,
     "metadata": {},
     "output_type": "execute_result"
    }
   ],
   "source": []
  },
  {
   "cell_type": "markdown",
   "metadata": {},
   "source": []
  },
  {
   "cell_type": "code",
   "execution_count": 12,
   "metadata": {},
   "outputs": [
    {
     "data": {
      "text/plain": [
       "Ttest_relResult(statistic=-3.6711840891235479, pvalue=0.00025555079974231751)"
      ]
     },
     "execution_count": 12,
     "metadata": {},
     "output_type": "execute_result"
    }
   ],
   "source": [
    "from scipy.stats import ttest_rel\n",
    "ttest_rel(befores,afters)\n",
    "\n"
   ]
  },
  {
   "cell_type": "code",
   "execution_count": 21,
   "metadata": {},
   "outputs": [],
   "source": [
    "chips = os.listdir('/home/tejaswik/Documents/CurrentProjects/chills/chop/chips/')\n",
    "befores  = []\n",
    "afters = []\n",
    "for i in range(len(chips)):\n",
    "    filename = fil+'/chop/chips/'+chips[i]\n",
    "    befores.append(ratioCalc(filename)['before'])\n",
    "    afters.append(ratioCalc(filename)['after'])"
   ]
  },
  {
   "cell_type": "code",
   "execution_count": 22,
   "metadata": {},
   "outputs": [
    {
     "data": {
      "text/plain": [
       "Ttest_relResult(statistic=-2.7212714298479592, pvalue=0.006594370960784233)"
      ]
     },
     "execution_count": 22,
     "metadata": {},
     "output_type": "execute_result"
    }
   ],
   "source": [
    "ttest_rel(befores,afters)\n"
   ]
  },
  {
   "cell_type": "code",
   "execution_count": null,
   "metadata": {},
   "outputs": [],
   "source": [
    "'''onset density before and after samples'''\n",
    "\n",
    "chips = os.listdir('/home/tejaswik/Documents/CurrentProjects/chills/chop/chips/')\n",
    "beforeon  = []\n",
    "afteron = []\n",
    "for i in range(len(chips)):\n",
    "    filename = fil+'/chop/chips/'+chips[i]\n",
    "    beforeon.append(onsetDense(filename)['before'])\n",
    "    afteron.append(onsetDense(filename)['after'])"
   ]
  },
  {
   "cell_type": "code",
   "execution_count": null,
   "metadata": {},
   "outputs": [],
   "source": [
    "rat = []\n",
    "for i in range(len(afteron)):\n",
    "    if afteron[i]==0:\n",
    "        continue\n",
    "    else:\n",
    "        rat.append(beforeon[i]/afteron[i])\n",
    "\n",
    "print(np.mean(rat))\n",
    "\n",
    "plt.plot(rat)"
   ]
  }
 ],
 "metadata": {
  "kernelspec": {
   "display_name": "Python 2",
   "language": "python",
   "name": "python2"
  },
  "language_info": {
   "codemirror_mode": {
    "name": "ipython",
    "version": 2
   },
   "file_extension": ".py",
   "mimetype": "text/x-python",
   "name": "python",
   "nbconvert_exporter": "python",
   "pygments_lexer": "ipython2",
   "version": "2.7.14"
  }
 },
 "nbformat": 4,
 "nbformat_minor": 1
}
