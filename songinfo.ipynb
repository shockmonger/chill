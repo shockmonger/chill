{
 "cells": [
  {
   "cell_type": "code",
   "execution_count": 68,
   "metadata": {
    "collapsed": true
   },
   "outputs": [],
   "source": [
    "%run chillscript.py"
   ]
  },
  {
   "cell_type": "code",
   "execution_count": 41,
   "metadata": {
    "collapsed": false
   },
   "outputs": [],
   "source": [
    "eachSong = []\n",
    "p = []\n",
    "s = []\n",
    "for i in range(len(parts)):\n",
    "    for j in range(0,3,1):\n",
    "        p.append(parts[i])\n",
    "        s.append(songsel[j])\n",
    "        eachSong = zip(p,s)\n",
    "        \n",
    "eachSong = pd.DataFrame(eachSong, columns=['folder', 'song'])\n",
    "eachSong.to_csv('eachSong.csv',encoding='utf-8')"
   ]
  },
  {
   "cell_type": "code",
   "execution_count": null,
   "metadata": {
    "collapsed": false
   },
   "outputs": [],
   "source": [
    "meanEn = []\n",
    "meanRMS = []\n",
    "\n",
    "for i in range(65,152,1):\n",
    "    filename = fil+'songs/'+eachSong['folder'][i]+'/'+eachSong['song'][i]+'.mp3'\n",
    "    meanEn.append(calcEn(filename)['meanEn'])\n",
    "    meanRMS.append(calcEn(filename)['meanRMS'])"
   ]
  },
  {
   "cell_type": "code",
   "execution_count": 79,
   "metadata": {
    "collapsed": false
   },
   "outputs": [
    {
     "data": {
      "text/plain": [
       "'/home/tejaswik/Documents/CurrentProjects/chills/songs/JulianBergheim/s3.mp3'"
      ]
     },
     "execution_count": 79,
     "metadata": {},
     "output_type": "execute_result"
    }
   ],
   "source": [
    "filename"
   ]
  }
 ],
 "metadata": {
  "kernelspec": {
   "display_name": "Python 2",
   "language": "python",
   "name": "python2"
  },
  "language_info": {
   "codemirror_mode": {
    "name": "ipython",
    "version": 2
   },
   "file_extension": ".py",
   "mimetype": "text/x-python",
   "name": "python",
   "nbconvert_exporter": "python",
   "pygments_lexer": "ipython2",
   "version": "2.7.12"
  }
 },
 "nbformat": 4,
 "nbformat_minor": 0
}
