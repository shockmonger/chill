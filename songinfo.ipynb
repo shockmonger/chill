{
 "cells": [
  {
   "cell_type": "code",
   "execution_count": 158,
   "metadata": {
    "collapsed": false
   },
   "outputs": [],
   "source": [
    "%run chillscript.py"
   ]
  },
  {
   "cell_type": "code",
   "execution_count": 41,
   "metadata": {
    "collapsed": false
   },
   "outputs": [],
   "source": [
    "eachSong = []\n",
    "p = []\n",
    "s = []\n",
    "for i in range(len(parts)):\n",
    "    for j in range(0,3,1):\n",
    "        p.append(parts[i])\n",
    "        s.append(songsel[j])\n",
    "        eachSong = zip(p,s)\n",
    "        \n",
    "eachSong = pd.DataFrame(eachSong, columns=['folder', 'song'])\n",
    "eachSong.to_csv('eachSong.csv',encoding='utf-8')"
   ]
  },
  {
   "cell_type": "code",
   "execution_count": 89,
   "metadata": {
    "collapsed": false
   },
   "outputs": [],
   "source": [
    "'''mean Energy and Mean RMS for each song'''\n",
    "\n",
    "meanEn = []\n",
    "meanRMS = []\n",
    "\n",
    "for i in range(0,152,1):\n",
    "    filename = fil+'songs/'+eachSong['folder'][i]+'/'+eachSong['song'][i]+'.mp3'\n",
    "    meanEn.append(calcEn(filename)['meanEn'])\n",
    "    meanRMS.append(calcEn(filename)['meanRMS'])"
   ]
  },
  {
   "cell_type": "code",
   "execution_count": 90,
   "metadata": {
    "collapsed": false
   },
   "outputs": [],
   "source": [
    "'''load finalchills dataset instead of creating'''\n",
    "\n",
    "\n",
    "wb = openpyxl.load_workbook(filename = fil+'finalchills.xlsx')\n",
    "sheets = wb.get_sheet_names()\n",
    "name = sheets[0]\n",
    "sheet_ranges = wb[name]\n",
    "df = pd.DataFrame(sheet_ranges.values)\n",
    "df.columns = ['id','participant','song','start','end']"
   ]
  },
  {
   "cell_type": "code",
   "execution_count": 112,
   "metadata": {
    "collapsed": false
   },
   "outputs": [],
   "source": [
    "'''rmse before and after samples'''\n",
    "\n",
    "chips = os.listdir('/home/tejaswik/Documents/CurrentProjects/chills/chop/chips/')\n",
    "befores  = []\n",
    "afters = []\n",
    "for i in range(len(chips)):\n",
    "    filename = fil+'/chop/chips/'+chips[i]\n",
    "    befores.append(ratioCalc(filename)['before'])\n",
    "    afters.append(ratioCalc(filename)['after'])"
   ]
  },
  {
   "cell_type": "code",
   "execution_count": 117,
   "metadata": {
    "collapsed": false
   },
   "outputs": [
    {
     "data": {
      "text/plain": [
       "<matplotlib.collections.PathCollection at 0x7f98d5e2d590>"
      ]
     },
     "execution_count": 117,
     "metadata": {},
     "output_type": "execute_result"
    },
    {
     "data": {
      "image/png": "[encoded data removed]",
      "text/plain": [
       "<matplotlib.figure.Figure at 0x7f98d5eb86d0>"
      ]
     },
     "metadata": {},
     "output_type": "display_data"
    }
   ],
   "source": [
    "plt.scatter(befores,afters)"
   ]
  },
  {
   "cell_type": "code",
   "execution_count": 177,
   "metadata": {
    "collapsed": false
   },
   "outputs": [
    {
     "data": {
      "text/plain": [
       "array([ 0.97446606,  0.19766381])"
      ]
     },
     "execution_count": 177,
     "metadata": {},
     "output_type": "execute_result"
    }
   ],
   "source": [
    "y = np.polyfit(befores,afters,befores[i], rcond=None, full=False, w =None, cov=False)\n",
    "y"
   ]
  },
  {
   "cell_type": "code",
   "execution_count": 185,
   "metadata": {
    "collapsed": false
   },
   "outputs": [
    {
     "name": "stdout",
     "output_type": "stream",
     "text": [
      "(32.281180252188435, 3.9294264)\n",
      "(30.257068097455704, 2.2183867)\n",
      "(129.71727455597025, 9.5792246)\n",
      "(0.19315016152660966, 0.34401891)\n"
     ]
    }
   ],
   "source": [
    "# for i in range(len(befores)):\n",
    "import scipy\n",
    "import numpy as np\n",
    "scipy.stats.ttest_rel(befores,afters)\n",
    "\n",
    "print(np.mean(meanEn),np.mean(meanRMS))\n",
    "print(np.std(meanEn),np.std(meanRMS))\n",
    "print(max(meanEn),max(meanRMS))\n",
    "print(min(meanEn),min(meanRMS))\n"
   ]
  },
  {
   "cell_type": "code",
   "execution_count": 159,
   "metadata": {
    "collapsed": false
   },
   "outputs": [],
   "source": [
    "'''onset density before and after samples'''\n",
    "\n",
    "chips = os.listdir('/home/tejaswik/Documents/CurrentProjects/chills/chop/chips/')\n",
    "beforeon  = []\n",
    "afteron = []\n",
    "for i in range(len(chips)):\n",
    "    filename = fil+'/chop/chips/'+chips[i]\n",
    "    beforeon.append(onsetDense(filename)['before'])\n",
    "    afteron.append(onsetDense(filename)['after'])"
   ]
  },
  {
   "cell_type": "code",
   "execution_count": 175,
   "metadata": {
    "collapsed": false
   },
   "outputs": [
    {
     "name": "stdout",
     "output_type": "stream",
     "text": [
      "0.263754045307\n"
     ]
    },
    {
     "data": {
      "text/plain": [
       "[<matplotlib.lines.Line2D at 0x7f98d64244d0>]"
      ]
     },
     "execution_count": 175,
     "metadata": {},
     "output_type": "execute_result"
    },
    {
     "data": {
      "image/png": "[encoded data removed]",
      "text/plain": [
       "<matplotlib.figure.Figure at 0x7f98d633a250>"
      ]
     },
     "metadata": {},
     "output_type": "display_data"
    }
   ],
   "source": [
    "rat = []\n",
    "for i in range(len(afteron)):\n",
    "    if afteron[i]==0:\n",
    "        continue\n",
    "    else:\n",
    "        rat.append(beforeon[i]/afteron[i])\n",
    "\n",
    "print(np.mean(rat))\n",
    "\n",
    "plt.plot(rat)"
   ]
  }
 ],
 "metadata": {
  "kernelspec": {
   "display_name": "Python 2",
   "language": "python",
   "name": "python2"
  },
  "language_info": {
   "codemirror_mode": {
    "name": "ipython",
    "version": 2
   },
   "file_extension": ".py",
   "mimetype": "text/x-python",
   "name": "python",
   "nbconvert_exporter": "python",
   "pygments_lexer": "ipython2",
   "version": "2.7.12"
  }
 },
 "nbformat": 4,
 "nbformat_minor": 0
}
