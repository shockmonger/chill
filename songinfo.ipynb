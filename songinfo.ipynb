{
 "cells": [
  {
   "cell_type": "code",
   "execution_count": 1,
   "metadata": {},
   "outputs": [],
   "source": [
    "%run chillscript.py"
   ]
  },
  {
   "cell_type": "code",
   "execution_count": 2,
   "metadata": {},
   "outputs": [],
   "source": [
    "%matplotlib inline"
   ]
  },
  {
   "cell_type": "code",
   "execution_count": 3,
   "metadata": {},
   "outputs": [],
   "source": [
    "eachsong = pd.DataFrame.from_csv('/home/tejaswik/Documents/CurrentProjects/chills/eachSong.csv')"
   ]
  },
  {
   "cell_type": "code",
   "execution_count": 4,
   "metadata": {},
   "outputs": [
    {
     "data": {
      "text/plain": [
       "153"
      ]
     },
     "execution_count": 4,
     "metadata": {},
     "output_type": "execute_result"
    }
   ],
   "source": [
    "len(eachsong)"
   ]
  },
  {
   "cell_type": "code",
   "execution_count": null,
   "metadata": {},
   "outputs": [],
   "source": [
    "'''mean Energy and Mean RMS for each song'''\n",
    "\n",
    "meanEn = []\n",
    "meanRMS = []\n",
    "\n",
    "for i in range(0,152,1):\n",
    "    filename = fil+'songs/'+eachSong['folder'][i]+'/'+eachSong['song'][i]+'.mp3'\n",
    "    meanEn.append(calcEn(filename)['meanEn'])\n",
    "    meanRMS.append(calcEn(filename)['meanRMS'])"
   ]
  },
  {
   "cell_type": "code",
   "execution_count": null,
   "metadata": {},
   "outputs": [],
   "source": [
    "'''load finalchills dataset instead of creating'''\n",
    "\n",
    "\n",
    "wb = openpyxl.load_workbook(filename = fil+'finalchills.xlsx')\n",
    "sheets = wb.get_sheet_names()\n",
    "name = sheets[0]\n",
    "sheet_ranges = wb[name]\n",
    "df = pd.DataFrame(sheet_ranges.values)\n",
    "df.columns = ['id','participant','song','start','end']"
   ]
  },
  {
   "cell_type": "code",
   "execution_count": null,
   "metadata": {},
   "outputs": [],
   "source": [
    "'''rmse before and after samples'''\n",
    "\n",
    "chips = os.listdir('/home/tejaswik/Documents/CurrentProjects/chills/random/')\n",
    "befores  = []\n",
    "afters = []\n",
    "for i in range(len(chips)):\n",
    "    filename = fil+'/random/'+chips[i]\n",
    "    befores.append(ratioCalc(filename)['before'])\n",
    "    afters.append(ratioCalc(filename)['after'])"
   ]
  },
  {
   "cell_type": "code",
   "execution_count": null,
   "metadata": {},
   "outputs": [],
   "source": [
    "plt.scatter(befores,afters)"
   ]
  },
  {
   "cell_type": "code",
   "execution_count": 11,
   "metadata": {},
   "outputs": [
    {
     "data": {
      "text/plain": [
       "array([ 0.97446605,  0.19766396])"
      ]
     },
     "execution_count": 11,
     "metadata": {},
     "output_type": "execute_result"
    }
   ],
   "source": [
    "y = np.polyfit(befores,afters,befores[i], rcond=None, full=False, w =None, cov=False)\n",
    "y"
   ]
  },
  {
   "cell_type": "code",
   "execution_count": 6,
   "metadata": {},
   "outputs": [
    {
     "ename": "NameError",
     "evalue": "name 'befores' is not defined",
     "output_type": "error",
     "traceback": [
      "\u001b[1;31m----------------------------------------------------\u001b[0m",
      "\u001b[1;31mNameError\u001b[0m          Traceback (most recent call last)",
      "\u001b[1;32m<ipython-input-6-7d4ef6691870>\u001b[0m in \u001b[0;36m<module>\u001b[1;34m()\u001b[0m\n\u001b[0;32m      2\u001b[0m \u001b[1;32mimport\u001b[0m \u001b[0mscipy\u001b[0m\u001b[1;33m\u001b[0m\u001b[0m\n\u001b[0;32m      3\u001b[0m \u001b[1;32mimport\u001b[0m \u001b[0mnumpy\u001b[0m \u001b[1;32mas\u001b[0m \u001b[0mnp\u001b[0m\u001b[1;33m\u001b[0m\u001b[0m\n\u001b[1;32m----> 4\u001b[1;33m \u001b[0mscipy\u001b[0m\u001b[1;33m.\u001b[0m\u001b[0mstats\u001b[0m\u001b[1;33m.\u001b[0m\u001b[0mttest_rel\u001b[0m\u001b[1;33m(\u001b[0m\u001b[0mbefores\u001b[0m\u001b[1;33m,\u001b[0m\u001b[0mafters\u001b[0m\u001b[1;33m)\u001b[0m\u001b[1;33m\u001b[0m\u001b[0m\n\u001b[0m\u001b[0;32m      5\u001b[0m \u001b[1;33m\u001b[0m\u001b[0m\n\u001b[0;32m      6\u001b[0m \u001b[1;32mprint\u001b[0m\u001b[1;33m(\u001b[0m\u001b[0mnp\u001b[0m\u001b[1;33m.\u001b[0m\u001b[0mmean\u001b[0m\u001b[1;33m(\u001b[0m\u001b[0mmeanEn\u001b[0m\u001b[1;33m)\u001b[0m\u001b[1;33m,\u001b[0m\u001b[0mnp\u001b[0m\u001b[1;33m.\u001b[0m\u001b[0mmean\u001b[0m\u001b[1;33m(\u001b[0m\u001b[0mmeanRMS\u001b[0m\u001b[1;33m)\u001b[0m\u001b[1;33m)\u001b[0m\u001b[1;33m\u001b[0m\u001b[0m\n",
      "\u001b[1;31mNameError\u001b[0m: name 'befores' is not defined"
     ]
    }
   ],
   "source": [
    "# for i in range(len(befores)):\n",
    "import scipy\n",
    "import numpy as np\n",
    "scipy.stats.ttest_rel(befores,afters)\n",
    "\n",
    "print(np.mean(meanEn),np.mean(meanRMS))\n",
    "print(np.std(meanEn),np.std(meanRMS))\n",
    "print(max(meanEn),max(meanRMS))\n",
    "print(min(meanEn),min(meanRMS))\n"
   ]
  },
  {
   "cell_type": "code",
   "execution_count": null,
   "metadata": {},
   "outputs": [],
   "source": [
    "'''onset density before and after samples'''\n",
    "\n",
    "chips = os.listdir('/home/tejaswik/Documents/CurrentProjects/chills/chop/chips/')\n",
    "beforeon  = []\n",
    "afteron = []\n",
    "for i in range(len(chips)):\n",
    "    filename = fil+'/chop/chips/'+chips[i]\n",
    "    beforeon.append(onsetDense(filename)['before'])\n",
    "    afteron.append(onsetDense(filename)['after'])"
   ]
  },
  {
   "cell_type": "code",
   "execution_count": null,
   "metadata": {},
   "outputs": [],
   "source": [
    "rat = []\n",
    "for i in range(len(afteron)):\n",
    "    if afteron[i]==0:\n",
    "        continue\n",
    "    else:\n",
    "        rat.append(beforeon[i]/afteron[i])\n",
    "\n",
    "print(np.mean(rat))\n",
    "\n",
    "plt.plot(rat)"
   ]
  }
 ],
 "metadata": {
  "kernelspec": {
   "display_name": "Python 2",
   "language": "python",
   "name": "python2"
  },
  "language_info": {
   "codemirror_mode": {
    "name": "ipython",
    "version": 2
   },
   "file_extension": ".py",
   "mimetype": "text/x-python",
   "name": "python",
   "nbconvert_exporter": "python",
   "pygments_lexer": "ipython2",
   "version": "2.7.14"
  }
 },
 "nbformat": 4,
 "nbformat_minor": 1
}
